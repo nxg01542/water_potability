{
  "nbformat": 4,
  "nbformat_minor": 5,
  "metadata": {
    "kernelspec": {
      "display_name": "Python 3.7.6 64-bit ('base': conda)",
      "language": "python",
      "name": "python37664bitbaseconda561b8cca35ec463888f053c8aaab03fa"
    },
    "language_info": {
      "codemirror_mode": {
        "name": "ipython",
        "version": 3
      },
      "file_extension": ".py",
      "mimetype": "text/x-python",
      "name": "python",
      "nbconvert_exporter": "python",
      "pygments_lexer": "ipython3",
      "version": "3.8.5"
    },
    "colab": {
      "provenance": [],
      "collapsed_sections": [
        "geGtoi1QLfL7",
        "VkrAwwYB5uyD"
      ],
      "toc_visible": true
    }
  },
  "cells": [
    {
      "cell_type": "markdown",
      "metadata": {
        "id": "julian-package"
      },
      "source": [
        "# Water Potability\n",
        "\n",
        "## Data Description\n",
        "1. **pH value:**<br>\n",
        "PH is an important parameter in evaluating the acid–base balance of water. It is also the indicator of acidic or alkaline condition of water status. WHO has recommended maximum permissible limit of pH from 6.5 to 8.5. The current investigation ranges were 6.52–6.83 which are in the range of WHO standards.\n",
        "\n",
        "2. **Hardness:**<br>\n",
        "Hardness is mainly caused by calcium and magnesium salts. These salts are dissolved from geologic deposits through which water travels. The length of time water is in contact with hardness producing material helps determine how much hardness there is in raw water. Hardness was originally defined as the capacity of water to precipitate soap caused by Calcium and Magnesium.\n",
        "\n",
        "3. **Solids (Total dissolved solids - TDS):**<br>\n",
        "Water has the ability to dissolve a wide range of inorganic and some organic minerals or salts such as potassium, calcium, sodium, bicarbonates, chlorides, magnesium, sulfates etc. These minerals produced un-wanted taste and diluted color in appearance of water. This is the important parameter for the use of water. The water with high TDS value indicates that water is highly mineralized. Desirable limit for TDS is 500 mg/l and maximum limit is 1000 mg/l which prescribed for drinking purpose.\n",
        "\n",
        "4. **Chloramines:**<br>\n",
        "Chlorine and chloramine are the major disinfectants used in public water systems. Chloramines are most commonly formed when ammonia is added to chlorine to treat drinking water. Chlorine levels up to 4 milligrams per liter (mg/L or 4 parts per million (ppm)) are considered safe in drinking water.\n",
        "\n",
        "5. **Sulfate:**<br>\n",
        "Sulfates are naturally occurring substances that are found in minerals, soil, and rocks. They are present in ambient air, groundwater, plants, and food. The principal commercial use of sulfate is in the chemical industry. Sulfate concentration in seawater is about 2,700 milligrams per liter (mg/L). It ranges from 3 to 30 mg/L in most freshwater supplies, although much higher concentrations (1000 mg/L) are found in some geographic locations.\n",
        "\n",
        "6. **Conductivity:**<br>\n",
        "Pure water is not a good conductor of electric current rather’s a good insulator. Increase in ions concentration enhances the electrical conductivity of water. Generally, the amount of dissolved solids in water determines the electrical conductivity. Electrical conductivity (EC) actually measures the ionic process of a solution that enables it to transmit current. According to WHO standards, EC value should not exceeded 400 μS/cm.\n",
        "\n",
        "7. **Organic_carbon:**<br>\n",
        "Total Organic Carbon (TOC) in source waters comes from decaying natural organic matter (NOM) as well as synthetic sources. TOC is a measure of the total amount of carbon in organic compounds in pure water. According to US EPA < 2 mg/L as TOC in treated / drinking water, and < 4 mg/Lit in source water which is use for treatment.\n",
        "\n",
        "8. **Trihalomethanes:**<br>\n",
        "THMs are chemicals which may be found in water treated with chlorine. The concentration of THMs in drinking water varies according to the level of organic material in the water, the amount of chlorine required to treat the water, and the temperature of the water that is being treated. THM levels up to 80 ppm is considered safe in drinking water.\n",
        "\n",
        "9. **Turbidity:**<br>\n",
        "The turbidity of water depends on the quantity of solid matter present in the suspended state. It is a measure of light emitting properties of water and the test is used to indicate the quality of waste discharge with respect to colloidal matter. The mean turbidity value obtained for Wondo Genet Campus (0.98 NTU) is lower than the WHO recommended value of 5.00 NTU.\n",
        "\n",
        "### Target Variable:\n",
        "**Potability** (ความสามารถในการดื่ม)\n",
        "- 0 ดื่มไม่ได้\n",
        "- 1 ดื่มได้\n",
        "\n",
        "## Objective:\n",
        "สร้าง classification model เพื่อทำนายว่าน้ำมีคุณภาพที่สามารถดื่มได้หรือไม่\n"
      ],
      "id": "julian-package"
    },
    {
      "cell_type": "code",
      "metadata": {
        "id": "included-brush"
      },
      "source": [
        "import pandas as pd\n",
        "import numpy as np\n",
        "from sklearn.metrics import plot_roc_curve"
      ],
      "id": "included-brush",
      "execution_count": null,
      "outputs": []
    },
    {
      "cell_type": "code",
      "metadata": {
        "id": "played-burner"
      },
      "source": [
        "df = pd.read_csv('water_potability.csv')"
      ],
      "id": "played-burner",
      "execution_count": null,
      "outputs": []
    },
    {
      "cell_type": "code",
      "metadata": {
        "id": "sacred-amino",
        "colab": {
          "base_uri": "https://localhost:8080/",
          "height": 359
        },
        "outputId": "243c3607-7d5b-4526-d2a0-68e898353c39"
      },
      "source": [
        "df.sample(10)"
      ],
      "id": "sacred-amino",
      "execution_count": null,
      "outputs": [
        {
          "output_type": "execute_result",
          "data": {
            "text/html": [
              "<div>\n",
              "<style scoped>\n",
              "    .dataframe tbody tr th:only-of-type {\n",
              "        vertical-align: middle;\n",
              "    }\n",
              "\n",
              "    .dataframe tbody tr th {\n",
              "        vertical-align: top;\n",
              "    }\n",
              "\n",
              "    .dataframe thead th {\n",
              "        text-align: right;\n",
              "    }\n",
              "</style>\n",
              "<table border=\"1\" class=\"dataframe\">\n",
              "  <thead>\n",
              "    <tr style=\"text-align: right;\">\n",
              "      <th></th>\n",
              "      <th>ph</th>\n",
              "      <th>Hardness</th>\n",
              "      <th>Solids</th>\n",
              "      <th>Chloramines</th>\n",
              "      <th>Sulfate</th>\n",
              "      <th>Conductivity</th>\n",
              "      <th>Organic_carbon</th>\n",
              "      <th>Trihalomethanes</th>\n",
              "      <th>Turbidity</th>\n",
              "      <th>Potability</th>\n",
              "    </tr>\n",
              "  </thead>\n",
              "  <tbody>\n",
              "    <tr>\n",
              "      <th>2305</th>\n",
              "      <td>5.280292</td>\n",
              "      <td>164.057389</td>\n",
              "      <td>13679.056905</td>\n",
              "      <td>5.971385</td>\n",
              "      <td>NaN</td>\n",
              "      <td>635.888484</td>\n",
              "      <td>11.805625</td>\n",
              "      <td>35.433864</td>\n",
              "      <td>3.835306</td>\n",
              "      <td>1</td>\n",
              "    </tr>\n",
              "    <tr>\n",
              "      <th>1591</th>\n",
              "      <td>7.918087</td>\n",
              "      <td>175.337240</td>\n",
              "      <td>29565.711108</td>\n",
              "      <td>7.432180</td>\n",
              "      <td>NaN</td>\n",
              "      <td>322.533423</td>\n",
              "      <td>11.309245</td>\n",
              "      <td>70.116746</td>\n",
              "      <td>4.640043</td>\n",
              "      <td>1</td>\n",
              "    </tr>\n",
              "    <tr>\n",
              "      <th>826</th>\n",
              "      <td>6.901863</td>\n",
              "      <td>164.723486</td>\n",
              "      <td>20442.615014</td>\n",
              "      <td>5.163931</td>\n",
              "      <td>341.537089</td>\n",
              "      <td>468.416350</td>\n",
              "      <td>10.362623</td>\n",
              "      <td>65.694878</td>\n",
              "      <td>4.047907</td>\n",
              "      <td>0</td>\n",
              "    </tr>\n",
              "    <tr>\n",
              "      <th>1612</th>\n",
              "      <td>6.707108</td>\n",
              "      <td>211.086503</td>\n",
              "      <td>10794.783898</td>\n",
              "      <td>7.967188</td>\n",
              "      <td>373.571878</td>\n",
              "      <td>406.198555</td>\n",
              "      <td>18.781679</td>\n",
              "      <td>NaN</td>\n",
              "      <td>2.640246</td>\n",
              "      <td>1</td>\n",
              "    </tr>\n",
              "    <tr>\n",
              "      <th>2281</th>\n",
              "      <td>9.228484</td>\n",
              "      <td>200.710330</td>\n",
              "      <td>26744.231526</td>\n",
              "      <td>6.833360</td>\n",
              "      <td>339.820719</td>\n",
              "      <td>363.950991</td>\n",
              "      <td>14.144772</td>\n",
              "      <td>86.950200</td>\n",
              "      <td>4.829754</td>\n",
              "      <td>0</td>\n",
              "    </tr>\n",
              "    <tr>\n",
              "      <th>1484</th>\n",
              "      <td>6.044672</td>\n",
              "      <td>150.671021</td>\n",
              "      <td>13593.600018</td>\n",
              "      <td>6.456238</td>\n",
              "      <td>401.737392</td>\n",
              "      <td>392.206741</td>\n",
              "      <td>19.827392</td>\n",
              "      <td>43.564293</td>\n",
              "      <td>4.914884</td>\n",
              "      <td>1</td>\n",
              "    </tr>\n",
              "    <tr>\n",
              "      <th>2753</th>\n",
              "      <td>6.163519</td>\n",
              "      <td>185.790317</td>\n",
              "      <td>37282.522490</td>\n",
              "      <td>8.240832</td>\n",
              "      <td>NaN</td>\n",
              "      <td>411.183589</td>\n",
              "      <td>16.162059</td>\n",
              "      <td>84.931402</td>\n",
              "      <td>3.477245</td>\n",
              "      <td>1</td>\n",
              "    </tr>\n",
              "    <tr>\n",
              "      <th>616</th>\n",
              "      <td>NaN</td>\n",
              "      <td>190.929256</td>\n",
              "      <td>20661.411063</td>\n",
              "      <td>10.175484</td>\n",
              "      <td>299.345576</td>\n",
              "      <td>471.062640</td>\n",
              "      <td>9.225985</td>\n",
              "      <td>60.023523</td>\n",
              "      <td>4.969150</td>\n",
              "      <td>0</td>\n",
              "    </tr>\n",
              "    <tr>\n",
              "      <th>2863</th>\n",
              "      <td>5.547576</td>\n",
              "      <td>182.644736</td>\n",
              "      <td>27417.998043</td>\n",
              "      <td>9.586090</td>\n",
              "      <td>378.526141</td>\n",
              "      <td>596.650495</td>\n",
              "      <td>11.565242</td>\n",
              "      <td>78.878604</td>\n",
              "      <td>4.448671</td>\n",
              "      <td>1</td>\n",
              "    </tr>\n",
              "    <tr>\n",
              "      <th>2480</th>\n",
              "      <td>9.012100</td>\n",
              "      <td>268.679299</td>\n",
              "      <td>13064.450591</td>\n",
              "      <td>7.625641</td>\n",
              "      <td>358.336760</td>\n",
              "      <td>549.827142</td>\n",
              "      <td>12.015868</td>\n",
              "      <td>63.698404</td>\n",
              "      <td>4.962329</td>\n",
              "      <td>0</td>\n",
              "    </tr>\n",
              "  </tbody>\n",
              "</table>\n",
              "</div>"
            ],
            "text/plain": [
              "            ph    Hardness  ...  Turbidity  Potability\n",
              "2305  5.280292  164.057389  ...   3.835306           1\n",
              "1591  7.918087  175.337240  ...   4.640043           1\n",
              "826   6.901863  164.723486  ...   4.047907           0\n",
              "1612  6.707108  211.086503  ...   2.640246           1\n",
              "2281  9.228484  200.710330  ...   4.829754           0\n",
              "1484  6.044672  150.671021  ...   4.914884           1\n",
              "2753  6.163519  185.790317  ...   3.477245           1\n",
              "616        NaN  190.929256  ...   4.969150           0\n",
              "2863  5.547576  182.644736  ...   4.448671           1\n",
              "2480  9.012100  268.679299  ...   4.962329           0\n",
              "\n",
              "[10 rows x 10 columns]"
            ]
          },
          "metadata": {},
          "execution_count": 6
        }
      ]
    },
    {
      "cell_type": "code",
      "metadata": {
        "colab": {
          "base_uri": "https://localhost:8080/"
        },
        "id": "49aj2rArlj0E",
        "outputId": "79bdc7c4-259b-4786-c305-990888b96dea"
      },
      "source": [
        "df.shape"
      ],
      "id": "49aj2rArlj0E",
      "execution_count": null,
      "outputs": [
        {
          "output_type": "execute_result",
          "data": {
            "text/plain": [
              "(3276, 10)"
            ]
          },
          "metadata": {},
          "execution_count": 7
        }
      ]
    },
    {
      "cell_type": "markdown",
      "metadata": {
        "id": "O2Lh7uRolQZt"
      },
      "source": [
        "## Data Cleaning"
      ],
      "id": "O2Lh7uRolQZt"
    },
    {
      "cell_type": "markdown",
      "metadata": {
        "id": "Uoq7cWZAlVr2"
      },
      "source": [
        "###เช็คว่ามีข้อมูลว่างหรือไม่"
      ],
      "id": "Uoq7cWZAlVr2"
    },
    {
      "cell_type": "code",
      "metadata": {
        "id": "disabled-louis",
        "colab": {
          "base_uri": "https://localhost:8080/"
        },
        "outputId": "6492dea6-1502-4a21-f147-ede5ed5d910b"
      },
      "source": [
        "df.isna().sum()"
      ],
      "id": "disabled-louis",
      "execution_count": null,
      "outputs": [
        {
          "output_type": "execute_result",
          "data": {
            "text/plain": [
              "ph                 491\n",
              "Hardness             0\n",
              "Solids               0\n",
              "Chloramines          0\n",
              "Sulfate            781\n",
              "Conductivity         0\n",
              "Organic_carbon       0\n",
              "Trihalomethanes    162\n",
              "Turbidity            0\n",
              "Potability           0\n",
              "dtype: int64"
            ]
          },
          "metadata": {},
          "execution_count": 8
        }
      ]
    },
    {
      "cell_type": "markdown",
      "metadata": {
        "id": "agQ252rHlsts"
      },
      "source": [
        "กำจัดข้อมูลว่างออก"
      ],
      "id": "agQ252rHlsts"
    },
    {
      "cell_type": "code",
      "metadata": {
        "colab": {
          "base_uri": "https://localhost:8080/"
        },
        "id": "v3fYFJ8Slu4r",
        "outputId": "9e66dea4-6984-431a-87a5-08b12a238e77"
      },
      "source": [
        "df_clean = df.dropna()\n",
        "df_clean.shape"
      ],
      "id": "v3fYFJ8Slu4r",
      "execution_count": null,
      "outputs": [
        {
          "output_type": "execute_result",
          "data": {
            "text/plain": [
              "(2011, 10)"
            ]
          },
          "metadata": {},
          "execution_count": 9
        }
      ]
    },
    {
      "cell_type": "code",
      "metadata": {
        "colab": {
          "base_uri": "https://localhost:8080/",
          "height": 359
        },
        "id": "WR5ZbuJfnIsU",
        "outputId": "265b3aa4-81bf-41c6-8a1b-fad17efa3859"
      },
      "source": [
        "df_clean.sample(10)"
      ],
      "id": "WR5ZbuJfnIsU",
      "execution_count": null,
      "outputs": [
        {
          "output_type": "execute_result",
          "data": {
            "text/html": [
              "<div>\n",
              "<style scoped>\n",
              "    .dataframe tbody tr th:only-of-type {\n",
              "        vertical-align: middle;\n",
              "    }\n",
              "\n",
              "    .dataframe tbody tr th {\n",
              "        vertical-align: top;\n",
              "    }\n",
              "\n",
              "    .dataframe thead th {\n",
              "        text-align: right;\n",
              "    }\n",
              "</style>\n",
              "<table border=\"1\" class=\"dataframe\">\n",
              "  <thead>\n",
              "    <tr style=\"text-align: right;\">\n",
              "      <th></th>\n",
              "      <th>ph</th>\n",
              "      <th>Hardness</th>\n",
              "      <th>Solids</th>\n",
              "      <th>Chloramines</th>\n",
              "      <th>Sulfate</th>\n",
              "      <th>Conductivity</th>\n",
              "      <th>Organic_carbon</th>\n",
              "      <th>Trihalomethanes</th>\n",
              "      <th>Turbidity</th>\n",
              "      <th>Potability</th>\n",
              "    </tr>\n",
              "  </thead>\n",
              "  <tbody>\n",
              "    <tr>\n",
              "      <th>165</th>\n",
              "      <td>7.308049</td>\n",
              "      <td>274.704950</td>\n",
              "      <td>14600.539522</td>\n",
              "      <td>8.105803</td>\n",
              "      <td>384.564852</td>\n",
              "      <td>415.607278</td>\n",
              "      <td>16.761625</td>\n",
              "      <td>68.937227</td>\n",
              "      <td>3.696120</td>\n",
              "      <td>0</td>\n",
              "    </tr>\n",
              "    <tr>\n",
              "      <th>1230</th>\n",
              "      <td>7.943882</td>\n",
              "      <td>211.816551</td>\n",
              "      <td>32071.179369</td>\n",
              "      <td>7.769215</td>\n",
              "      <td>290.337398</td>\n",
              "      <td>353.336484</td>\n",
              "      <td>17.871950</td>\n",
              "      <td>78.492783</td>\n",
              "      <td>4.111691</td>\n",
              "      <td>0</td>\n",
              "    </tr>\n",
              "    <tr>\n",
              "      <th>1500</th>\n",
              "      <td>6.897923</td>\n",
              "      <td>173.390928</td>\n",
              "      <td>16616.516617</td>\n",
              "      <td>6.352934</td>\n",
              "      <td>329.339768</td>\n",
              "      <td>337.436088</td>\n",
              "      <td>12.446976</td>\n",
              "      <td>60.159413</td>\n",
              "      <td>4.490105</td>\n",
              "      <td>1</td>\n",
              "    </tr>\n",
              "    <tr>\n",
              "      <th>1394</th>\n",
              "      <td>7.371290</td>\n",
              "      <td>180.736526</td>\n",
              "      <td>25672.311996</td>\n",
              "      <td>7.377422</td>\n",
              "      <td>310.567467</td>\n",
              "      <td>298.053057</td>\n",
              "      <td>12.671607</td>\n",
              "      <td>27.559355</td>\n",
              "      <td>4.084697</td>\n",
              "      <td>0</td>\n",
              "    </tr>\n",
              "    <tr>\n",
              "      <th>2351</th>\n",
              "      <td>6.252810</td>\n",
              "      <td>187.569479</td>\n",
              "      <td>27690.474784</td>\n",
              "      <td>6.489931</td>\n",
              "      <td>330.949210</td>\n",
              "      <td>303.496373</td>\n",
              "      <td>14.261369</td>\n",
              "      <td>57.952826</td>\n",
              "      <td>2.921797</td>\n",
              "      <td>1</td>\n",
              "    </tr>\n",
              "    <tr>\n",
              "      <th>184</th>\n",
              "      <td>5.877974</td>\n",
              "      <td>141.615287</td>\n",
              "      <td>13652.293199</td>\n",
              "      <td>5.701659</td>\n",
              "      <td>279.782400</td>\n",
              "      <td>538.495404</td>\n",
              "      <td>12.034042</td>\n",
              "      <td>67.907258</td>\n",
              "      <td>4.032260</td>\n",
              "      <td>0</td>\n",
              "    </tr>\n",
              "    <tr>\n",
              "      <th>2401</th>\n",
              "      <td>4.083595</td>\n",
              "      <td>201.938643</td>\n",
              "      <td>20555.965489</td>\n",
              "      <td>1.920271</td>\n",
              "      <td>341.597153</td>\n",
              "      <td>435.511529</td>\n",
              "      <td>12.226676</td>\n",
              "      <td>69.289779</td>\n",
              "      <td>2.974871</td>\n",
              "      <td>1</td>\n",
              "    </tr>\n",
              "    <tr>\n",
              "      <th>655</th>\n",
              "      <td>6.604008</td>\n",
              "      <td>212.978467</td>\n",
              "      <td>23564.579663</td>\n",
              "      <td>6.608205</td>\n",
              "      <td>325.353860</td>\n",
              "      <td>430.332754</td>\n",
              "      <td>14.352905</td>\n",
              "      <td>33.403048</td>\n",
              "      <td>4.458967</td>\n",
              "      <td>0</td>\n",
              "    </tr>\n",
              "    <tr>\n",
              "      <th>1073</th>\n",
              "      <td>7.203439</td>\n",
              "      <td>168.445358</td>\n",
              "      <td>22826.484697</td>\n",
              "      <td>6.283250</td>\n",
              "      <td>271.892045</td>\n",
              "      <td>437.370863</td>\n",
              "      <td>16.410654</td>\n",
              "      <td>64.505923</td>\n",
              "      <td>6.389161</td>\n",
              "      <td>1</td>\n",
              "    </tr>\n",
              "    <tr>\n",
              "      <th>2632</th>\n",
              "      <td>10.188433</td>\n",
              "      <td>286.567991</td>\n",
              "      <td>7105.800709</td>\n",
              "      <td>9.840540</td>\n",
              "      <td>321.686059</td>\n",
              "      <td>437.879508</td>\n",
              "      <td>12.871599</td>\n",
              "      <td>78.732055</td>\n",
              "      <td>4.635243</td>\n",
              "      <td>0</td>\n",
              "    </tr>\n",
              "  </tbody>\n",
              "</table>\n",
              "</div>"
            ],
            "text/plain": [
              "             ph    Hardness  ...  Turbidity  Potability\n",
              "165    7.308049  274.704950  ...   3.696120           0\n",
              "1230   7.943882  211.816551  ...   4.111691           0\n",
              "1500   6.897923  173.390928  ...   4.490105           1\n",
              "1394   7.371290  180.736526  ...   4.084697           0\n",
              "2351   6.252810  187.569479  ...   2.921797           1\n",
              "184    5.877974  141.615287  ...   4.032260           0\n",
              "2401   4.083595  201.938643  ...   2.974871           1\n",
              "655    6.604008  212.978467  ...   4.458967           0\n",
              "1073   7.203439  168.445358  ...   6.389161           1\n",
              "2632  10.188433  286.567991  ...   4.635243           0\n",
              "\n",
              "[10 rows x 10 columns]"
            ]
          },
          "metadata": {},
          "execution_count": 10
        }
      ]
    },
    {
      "cell_type": "code",
      "metadata": {
        "colab": {
          "base_uri": "https://localhost:8080/",
          "height": 798
        },
        "id": "exhPQM-MmUuP",
        "outputId": "c819605c-92d0-4823-9707-bad72a09c08a"
      },
      "source": [
        "import matplotlib.pyplot as plt\n",
        "import seaborn as sns\n",
        "\n",
        "mask = np.zeros_like(df_clean.corr(), dtype=np.bool)\n",
        "mask[np.triu_indices_from(mask)] = True\n",
        "\n",
        "f, ax = plt.subplots(figsize=(16, 12))\n",
        "plt.title('Pearson Correlation Matrix', fontsize=25)\n",
        "\n",
        "sns.heatmap(df_clean.corr(),linewidths=0.25,vmax=0.7,square=True,cmap=\"BuGn\", #\"BuGn_r\" to reverse\n",
        "            linecolor='w',annot=True,annot_kws={\"size\":8},mask=mask,cbar_kws={\"shrink\": .9});"
      ],
      "id": "exhPQM-MmUuP",
      "execution_count": null,
      "outputs": [
        {
          "output_type": "display_data",
          "data": {
            "image/png": "[encoded data removed]",
            "text/plain": [
              "<Figure size 1152x864 with 2 Axes>"
            ]
          },
          "metadata": {
            "needs_background": "light"
          }
        }
      ]
    },
    {
      "cell_type": "markdown",
      "metadata": {
        "id": "W8ZsEj_DU4n-"
      },
      "source": [
        "พบว่าข้อมูลไม่เกิด Multicollinearity จึงไม่ต้องทำอะไรกับข้อมูล"
      ],
      "id": "W8ZsEj_DU4n-"
    },
    {
      "cell_type": "markdown",
      "metadata": {
        "id": "0Ow6SBZKmMn-"
      },
      "source": [
        "### กำจัดข้อมูลที่เป็น outlier ออก"
      ],
      "id": "0Ow6SBZKmMn-"
    },
    {
      "cell_type": "markdown",
      "metadata": {
        "id": "jDY2hb5VmRJ2"
      },
      "source": [
        "ph"
      ],
      "id": "jDY2hb5VmRJ2"
    },
    {
      "cell_type": "code",
      "metadata": {
        "colab": {
          "base_uri": "https://localhost:8080/",
          "height": 296
        },
        "id": "rmA2kO8wlRBt",
        "outputId": "e3b1db88-5aee-4e77-fdfb-a4070c0267a1"
      },
      "source": [
        "sns.boxplot(x=df_clean['ph'])"
      ],
      "id": "rmA2kO8wlRBt",
      "execution_count": null,
      "outputs": [
        {
          "output_type": "execute_result",
          "data": {
            "text/plain": [
              "<matplotlib.axes._subplots.AxesSubplot at 0x7f0aadbc0310>"
            ]
          },
          "metadata": {},
          "execution_count": 12
        },
        {
          "output_type": "display_data",
          "data": {
            "image/png": "[encoded data removed]",
            "text/plain": [
              "<Figure size 432x288 with 1 Axes>"
            ]
          },
          "metadata": {
            "needs_background": "light"
          }
        }
      ]
    },
    {
      "cell_type": "code",
      "metadata": {
        "id": "Xu3etVZ_lhPh"
      },
      "source": [
        "Q1_ph = df_clean['ph'].quantile(0.25)\n",
        "Q3_ph = df_clean['ph'].quantile(0.75)\n",
        "IQR_ph = Q3_ph - Q1_ph\n",
        "lower_limit_ph = Q1_ph - 1.5*IQR_ph\n",
        "upper_limit_ph = Q3_ph + 1.5*IQR_ph\n",
        "\n",
        "df_clean = df_clean[(df_clean['ph'] > lower_limit_ph) & (df_clean['ph'] < upper_limit_ph)]"
      ],
      "id": "Xu3etVZ_lhPh",
      "execution_count": null,
      "outputs": []
    },
    {
      "cell_type": "code",
      "metadata": {
        "colab": {
          "base_uri": "https://localhost:8080/"
        },
        "id": "paH-iQyWmH3l",
        "outputId": "1edd4f9f-5102-496a-b5a6-b8ee58c10265"
      },
      "source": [
        "df_clean.shape"
      ],
      "id": "paH-iQyWmH3l",
      "execution_count": null,
      "outputs": [
        {
          "output_type": "execute_result",
          "data": {
            "text/plain": [
              "(1980, 10)"
            ]
          },
          "metadata": {},
          "execution_count": 14
        }
      ]
    },
    {
      "cell_type": "markdown",
      "metadata": {
        "id": "ySisPfbXmVAc"
      },
      "source": [
        "Hardness"
      ],
      "id": "ySisPfbXmVAc"
    },
    {
      "cell_type": "code",
      "metadata": {
        "colab": {
          "base_uri": "https://localhost:8080/",
          "height": 296
        },
        "id": "QtRv0hMRmMHM",
        "outputId": "b7815a01-4d14-44db-a30f-49c598a8b0c3"
      },
      "source": [
        "sns.boxplot(x=df_clean['Hardness'])"
      ],
      "id": "QtRv0hMRmMHM",
      "execution_count": null,
      "outputs": [
        {
          "output_type": "execute_result",
          "data": {
            "text/plain": [
              "<matplotlib.axes._subplots.AxesSubplot at 0x7f0aa3215790>"
            ]
          },
          "metadata": {},
          "execution_count": 15
        },
        {
          "output_type": "display_data",
          "data": {
            "image/png": "[encoded data removed]",
            "text/plain": [
              "<Figure size 432x288 with 1 Axes>"
            ]
          },
          "metadata": {
            "needs_background": "light"
          }
        }
      ]
    },
    {
      "cell_type": "code",
      "metadata": {
        "id": "bXCY5Hc0mbet"
      },
      "source": [
        "Q1_Hardness = df_clean['Hardness'].quantile(0.25)\n",
        "Q3_Hardness = df_clean['Hardness'].quantile(0.75)\n",
        "IQR_Hardness = Q3_Hardness - Q1_Hardness\n",
        "lower_limit_Hardness = Q1_Hardness - 1.5*IQR_Hardness\n",
        "upper_limit_Hardness = Q3_Hardness + 1.5*IQR_Hardness\n",
        "\n",
        "df_clean = df_clean[(df_clean['Hardness'] > lower_limit_Hardness) & (df_clean['Hardness'] < upper_limit_Hardness)]"
      ],
      "id": "bXCY5Hc0mbet",
      "execution_count": null,
      "outputs": []
    },
    {
      "cell_type": "code",
      "metadata": {
        "colab": {
          "base_uri": "https://localhost:8080/"
        },
        "id": "8JyVjd1lmeAV",
        "outputId": "ed9cf6d6-ced8-4d90-c9da-48c112161654"
      },
      "source": [
        "df_clean.shape"
      ],
      "id": "8JyVjd1lmeAV",
      "execution_count": null,
      "outputs": [
        {
          "output_type": "execute_result",
          "data": {
            "text/plain": [
              "(1934, 10)"
            ]
          },
          "metadata": {},
          "execution_count": 17
        }
      ]
    },
    {
      "cell_type": "markdown",
      "metadata": {
        "id": "2djXjlxFmkXu"
      },
      "source": [
        "Solids"
      ],
      "id": "2djXjlxFmkXu"
    },
    {
      "cell_type": "code",
      "metadata": {
        "colab": {
          "base_uri": "https://localhost:8080/",
          "height": 296
        },
        "id": "-wkcUmBImll7",
        "outputId": "45de7434-82a9-4890-a740-2d6aae5ef2c5"
      },
      "source": [
        "sns.boxplot(x=df_clean['Solids'])"
      ],
      "id": "-wkcUmBImll7",
      "execution_count": null,
      "outputs": [
        {
          "output_type": "execute_result",
          "data": {
            "text/plain": [
              "<matplotlib.axes._subplots.AxesSubplot at 0x7f0aa320b610>"
            ]
          },
          "metadata": {},
          "execution_count": 18
        },
        {
          "output_type": "display_data",
          "data": {
            "image/png": "[encoded data removed]",
            "text/plain": [
              "<Figure size 432x288 with 1 Axes>"
            ]
          },
          "metadata": {
            "needs_background": "light"
          }
        }
      ]
    },
    {
      "cell_type": "code",
      "metadata": {
        "id": "iJk60yKtmoxN"
      },
      "source": [
        "Q1_Solids = df_clean['Solids'].quantile(0.25)\n",
        "Q3_Solids = df_clean['Solids'].quantile(0.75)\n",
        "IQR_Solids = Q3_Solids - Q1_Solids\n",
        "lower_limit_Solids = Q1_Solids - 1.5*IQR_Solids\n",
        "upper_limit_Solids = Q3_Solids + 1.5*IQR_Solids\n",
        "\n",
        "df_clean = df_clean[(df_clean['Solids'] > lower_limit_Solids) & (df_clean['Solids'] < upper_limit_Solids)]"
      ],
      "id": "iJk60yKtmoxN",
      "execution_count": null,
      "outputs": []
    },
    {
      "cell_type": "code",
      "metadata": {
        "colab": {
          "base_uri": "https://localhost:8080/"
        },
        "id": "T6nINZrsmr8b",
        "outputId": "1b63f0d3-7ef4-40b1-de79-6c0952986120"
      },
      "source": [
        "df_clean.shape"
      ],
      "id": "T6nINZrsmr8b",
      "execution_count": null,
      "outputs": [
        {
          "output_type": "execute_result",
          "data": {
            "text/plain": [
              "(1906, 10)"
            ]
          },
          "metadata": {},
          "execution_count": 20
        }
      ]
    },
    {
      "cell_type": "markdown",
      "metadata": {
        "id": "YxwH_Rl4mwee"
      },
      "source": [
        "Chloramines"
      ],
      "id": "YxwH_Rl4mwee"
    },
    {
      "cell_type": "code",
      "metadata": {
        "colab": {
          "base_uri": "https://localhost:8080/",
          "height": 296
        },
        "id": "0_teqMm-mzkx",
        "outputId": "b5fdb822-27c4-4a15-a0ce-653262a18e43"
      },
      "source": [
        "sns.boxplot(x=df_clean['Chloramines'])"
      ],
      "id": "0_teqMm-mzkx",
      "execution_count": null,
      "outputs": [
        {
          "output_type": "execute_result",
          "data": {
            "text/plain": [
              "<matplotlib.axes._subplots.AxesSubplot at 0x7f0aa31c4590>"
            ]
          },
          "metadata": {},
          "execution_count": 21
        },
        {
          "output_type": "display_data",
          "data": {
            "image/png": "[encoded data removed]",
            "text/plain": [
              "<Figure size 432x288 with 1 Axes>"
            ]
          },
          "metadata": {
            "needs_background": "light"
          }
        }
      ]
    },
    {
      "cell_type": "code",
      "metadata": {
        "id": "LlfyHdEGmuLd"
      },
      "source": [
        "Q1_Chloramines = df_clean['Chloramines'].quantile(0.25)\n",
        "Q3_Chloramines = df_clean['Chloramines'].quantile(0.75)\n",
        "IQR_Chloramines = Q3_Chloramines - Q1_Chloramines\n",
        "lower_limit_Chloramines = Q1_Chloramines - 1.5*IQR_Chloramines\n",
        "upper_limit_Chloramines = Q3_Chloramines + 1.5*IQR_Chloramines\n",
        "\n",
        "df_clean = df_clean[(df_clean['Chloramines'] > lower_limit_Chloramines) & (df_clean['Chloramines'] < upper_limit_Chloramines)]"
      ],
      "id": "LlfyHdEGmuLd",
      "execution_count": null,
      "outputs": []
    },
    {
      "cell_type": "code",
      "metadata": {
        "colab": {
          "base_uri": "https://localhost:8080/"
        },
        "id": "az8xIT_zm5kO",
        "outputId": "7c160c0c-d06b-43a3-fc74-c0b05188ee2b"
      },
      "source": [
        "df_clean.shape"
      ],
      "id": "az8xIT_zm5kO",
      "execution_count": null,
      "outputs": [
        {
          "output_type": "execute_result",
          "data": {
            "text/plain": [
              "(1867, 10)"
            ]
          },
          "metadata": {},
          "execution_count": 23
        }
      ]
    },
    {
      "cell_type": "markdown",
      "metadata": {
        "id": "XP7EdpIom7jg"
      },
      "source": [
        "Sulfate"
      ],
      "id": "XP7EdpIom7jg"
    },
    {
      "cell_type": "code",
      "metadata": {
        "colab": {
          "base_uri": "https://localhost:8080/",
          "height": 296
        },
        "id": "Nqs-SxRdm7TN",
        "outputId": "8199a635-9069-49ee-9872-d74495cce8cc"
      },
      "source": [
        "sns.boxplot(x=df_clean['Sulfate'])"
      ],
      "id": "Nqs-SxRdm7TN",
      "execution_count": null,
      "outputs": [
        {
          "output_type": "execute_result",
          "data": {
            "text/plain": [
              "<matplotlib.axes._subplots.AxesSubplot at 0x7f0aa312b8d0>"
            ]
          },
          "metadata": {},
          "execution_count": 24
        },
        {
          "output_type": "display_data",
          "data": {
            "image/png": "[encoded data removed]",
            "text/plain": [
              "<Figure size 432x288 with 1 Axes>"
            ]
          },
          "metadata": {
            "needs_background": "light"
          }
        }
      ]
    },
    {
      "cell_type": "code",
      "metadata": {
        "id": "Ie0uB1ignAKs"
      },
      "source": [
        "Q1_Sulfate = df_clean['Sulfate'].quantile(0.25)\n",
        "Q3_Sulfate = df_clean['Sulfate'].quantile(0.75)\n",
        "IQR_Sulfate = Q3_Sulfate - Q1_Sulfate\n",
        "lower_limit_Sulfate = Q1_Sulfate - 1.5*IQR_Sulfate\n",
        "upper_limit_Sulfate = Q3_Sulfate + 1.5*IQR_Sulfate\n",
        "\n",
        "df_clean = df_clean[(df_clean['Sulfate'] > lower_limit_Sulfate) & (df_clean['Sulfate'] < upper_limit_Sulfate)]"
      ],
      "id": "Ie0uB1ignAKs",
      "execution_count": null,
      "outputs": []
    },
    {
      "cell_type": "code",
      "metadata": {
        "colab": {
          "base_uri": "https://localhost:8080/"
        },
        "id": "3ZaxsYBDnCGu",
        "outputId": "f1da99bd-fc2f-45e8-ea93-1b848a1ecb22"
      },
      "source": [
        "df_clean.shape"
      ],
      "id": "3ZaxsYBDnCGu",
      "execution_count": null,
      "outputs": [
        {
          "output_type": "execute_result",
          "data": {
            "text/plain": [
              "(1837, 10)"
            ]
          },
          "metadata": {},
          "execution_count": 26
        }
      ]
    },
    {
      "cell_type": "markdown",
      "metadata": {
        "id": "NSsTykiVnEIp"
      },
      "source": [
        "Conductivity"
      ],
      "id": "NSsTykiVnEIp"
    },
    {
      "cell_type": "code",
      "metadata": {
        "colab": {
          "base_uri": "https://localhost:8080/",
          "height": 296
        },
        "id": "610W2oNUnJD9",
        "outputId": "174c1739-190c-4abb-ac03-1da488dfedd8"
      },
      "source": [
        "sns.boxplot(x=df_clean['Conductivity'])"
      ],
      "id": "610W2oNUnJD9",
      "execution_count": null,
      "outputs": [
        {
          "output_type": "execute_result",
          "data": {
            "text/plain": [
              "<matplotlib.axes._subplots.AxesSubplot at 0x7f0aa30967d0>"
            ]
          },
          "metadata": {},
          "execution_count": 27
        },
        {
          "output_type": "display_data",
          "data": {
            "image/png": "[encoded data removed]",
            "text/plain": [
              "<Figure size 432x288 with 1 Axes>"
            ]
          },
          "metadata": {
            "needs_background": "light"
          }
        }
      ]
    },
    {
      "cell_type": "code",
      "metadata": {
        "id": "a4JAjNIhnNHb"
      },
      "source": [
        "Q1_Conductivity = df_clean['Conductivity'].quantile(0.25)\n",
        "Q3_Conductivity = df_clean['Conductivity'].quantile(0.75)\n",
        "IQR_Conductivity = Q3_Conductivity - Q1_Conductivity\n",
        "lower_limit_Conductivity = Q1_Conductivity - 1.5*IQR_Conductivity\n",
        "upper_limit_Conductivity = Q3_Conductivity + 1.5*IQR_Conductivity\n",
        "\n",
        "df_clean = df_clean[(df_clean['Conductivity'] > lower_limit_Conductivity) & (df_clean['Conductivity'] < upper_limit_Conductivity)]"
      ],
      "id": "a4JAjNIhnNHb",
      "execution_count": null,
      "outputs": []
    },
    {
      "cell_type": "code",
      "metadata": {
        "colab": {
          "base_uri": "https://localhost:8080/"
        },
        "id": "kS-TsuwonOVT",
        "outputId": "3ef2c5af-df7e-47f3-a5af-90f414c5944b"
      },
      "source": [
        "df_clean.shape"
      ],
      "id": "kS-TsuwonOVT",
      "execution_count": null,
      "outputs": [
        {
          "output_type": "execute_result",
          "data": {
            "text/plain": [
              "(1831, 10)"
            ]
          },
          "metadata": {},
          "execution_count": 29
        }
      ]
    },
    {
      "cell_type": "markdown",
      "metadata": {
        "id": "LZgtQ6d4nTXp"
      },
      "source": [
        "Organic_carbon"
      ],
      "id": "LZgtQ6d4nTXp"
    },
    {
      "cell_type": "code",
      "metadata": {
        "colab": {
          "base_uri": "https://localhost:8080/",
          "height": 297
        },
        "id": "NeFwY_frnV_X",
        "outputId": "af12f7ea-9d87-4b85-f619-45011ef7187c"
      },
      "source": [
        "sns.boxplot(x=df_clean['Organic_carbon'])"
      ],
      "id": "NeFwY_frnV_X",
      "execution_count": null,
      "outputs": [
        {
          "output_type": "execute_result",
          "data": {
            "text/plain": [
              "<matplotlib.axes._subplots.AxesSubplot at 0x7f0aa3008590>"
            ]
          },
          "metadata": {},
          "execution_count": 30
        },
        {
          "output_type": "display_data",
          "data": {
            "image/png": "[encoded data removed]",
            "text/plain": [
              "<Figure size 432x288 with 1 Axes>"
            ]
          },
          "metadata": {
            "needs_background": "light"
          }
        }
      ]
    },
    {
      "cell_type": "code",
      "metadata": {
        "id": "4tTF7xF2ndx_"
      },
      "source": [
        "Q1_Organic_carbon = df_clean['Organic_carbon'].quantile(0.25)\n",
        "Q3_Organic_carbon = df_clean['Organic_carbon'].quantile(0.75)\n",
        "IQR_Organic_carbon = Q3_Organic_carbon - Q1_Organic_carbon\n",
        "lower_limit_Organic_carbon = Q1_Organic_carbon - 1.5*IQR_Organic_carbon\n",
        "upper_limit_Organic_carbon = Q3_Organic_carbon + 1.5*IQR_Organic_carbon\n",
        "\n",
        "df_clean = df_clean[(df_clean['Organic_carbon'] > lower_limit_Organic_carbon) & (df_clean['Organic_carbon'] < upper_limit_Organic_carbon)]"
      ],
      "id": "4tTF7xF2ndx_",
      "execution_count": null,
      "outputs": []
    },
    {
      "cell_type": "code",
      "metadata": {
        "colab": {
          "base_uri": "https://localhost:8080/"
        },
        "id": "XKRCae51nfqc",
        "outputId": "429f09dc-a2b0-4afa-c5aa-b707bfb3f9c0"
      },
      "source": [
        "df_clean.shape"
      ],
      "id": "XKRCae51nfqc",
      "execution_count": null,
      "outputs": [
        {
          "output_type": "execute_result",
          "data": {
            "text/plain": [
              "(1822, 10)"
            ]
          },
          "metadata": {},
          "execution_count": 32
        }
      ]
    },
    {
      "cell_type": "markdown",
      "metadata": {
        "id": "aLMIbzgFni26"
      },
      "source": [
        "Trihalomethanes"
      ],
      "id": "aLMIbzgFni26"
    },
    {
      "cell_type": "code",
      "metadata": {
        "colab": {
          "base_uri": "https://localhost:8080/",
          "height": 296
        },
        "id": "41RxoaVRnn_z",
        "outputId": "83824c64-2683-43b8-8e97-be83fbffbeaf"
      },
      "source": [
        "sns.boxplot(x=df_clean['Trihalomethanes'])"
      ],
      "id": "41RxoaVRnn_z",
      "execution_count": null,
      "outputs": [
        {
          "output_type": "execute_result",
          "data": {
            "text/plain": [
              "<matplotlib.axes._subplots.AxesSubplot at 0x7f0aa2fe6050>"
            ]
          },
          "metadata": {},
          "execution_count": 33
        },
        {
          "output_type": "display_data",
          "data": {
            "image/png": "[encoded data removed]",
            "text/plain": [
              "<Figure size 432x288 with 1 Axes>"
            ]
          },
          "metadata": {
            "needs_background": "light"
          }
        }
      ]
    },
    {
      "cell_type": "code",
      "metadata": {
        "id": "N_ukA82dnqsA"
      },
      "source": [
        "Q1_Trihalomethanes = df_clean['Trihalomethanes'].quantile(0.25)\n",
        "Q3_Trihalomethanes = df_clean['Trihalomethanes'].quantile(0.75)\n",
        "IQR_Trihalomethanes = Q3_Trihalomethanes - Q1_Trihalomethanes\n",
        "lower_limit_Trihalomethanes = Q1_Trihalomethanes - 1.5*IQR_Trihalomethanes\n",
        "upper_limit_Trihalomethanes = Q3_Trihalomethanes + 1.5*IQR_Trihalomethanes\n",
        "\n",
        "df_clean = df_clean[(df_clean['Trihalomethanes'] > lower_limit_Trihalomethanes) & (df_clean['Trihalomethanes'] < upper_limit_Trihalomethanes)]"
      ],
      "id": "N_ukA82dnqsA",
      "execution_count": null,
      "outputs": []
    },
    {
      "cell_type": "code",
      "metadata": {
        "colab": {
          "base_uri": "https://localhost:8080/"
        },
        "id": "5MDDYxwOntks",
        "outputId": "89e6f1e2-34d9-4c79-fb74-70a6055c25a7"
      },
      "source": [
        "df_clean.shape"
      ],
      "id": "5MDDYxwOntks",
      "execution_count": null,
      "outputs": [
        {
          "output_type": "execute_result",
          "data": {
            "text/plain": [
              "(1800, 10)"
            ]
          },
          "metadata": {},
          "execution_count": 35
        }
      ]
    },
    {
      "cell_type": "markdown",
      "metadata": {
        "id": "DhZySeECBOrT"
      },
      "source": [
        "###การทำ standardize และ normalize ข้อมูล"
      ],
      "id": "DhZySeECBOrT"
    },
    {
      "cell_type": "code",
      "metadata": {
        "id": "h5oajHGOCKte"
      },
      "source": [
        "from sklearn.preprocessing import MinMaxScaler, StandardScaler"
      ],
      "id": "h5oajHGOCKte",
      "execution_count": null,
      "outputs": []
    },
    {
      "cell_type": "code",
      "metadata": {
        "colab": {
          "base_uri": "https://localhost:8080/",
          "height": 606
        },
        "id": "XrEODNUoEoR5",
        "outputId": "86cc8481-f5c3-48a1-ad05-49af15167f23"
      },
      "source": [
        "plt.figure(figsize=(20,10))\n",
        "for i, column in enumerate(df_clean.columns, 1):\n",
        "    plt.subplot(3,4,i)\n",
        "    sns.histplot(df_clean[column])"
      ],
      "id": "XrEODNUoEoR5",
      "execution_count": null,
      "outputs": [
        {
          "output_type": "display_data",
          "data": {
            "image/png": "[encoded data removed]",
            "text/plain": [
              "<Figure size 1440x720 with 10 Axes>"
            ]
          },
          "metadata": {
            "needs_background": "light"
          }
        }
      ]
    },
    {
      "cell_type": "markdown",
      "metadata": {
        "id": "9_PV__zbFAr-"
      },
      "source": [
        "พบว่า feature ของ dataset นี้มีการกระจายตัวแบบ gaussian เราจึงใช้วิธีการ standardize"
      ],
      "id": "9_PV__zbFAr-"
    },
    {
      "cell_type": "code",
      "metadata": {
        "id": "qmKjQJ7nbGk7"
      },
      "source": [
        "norm = StandardScaler()\n",
        "x = df_clean.drop('Potability', axis=1)\n",
        "y = df_clean['Potability']\n",
        "x = norm.fit(x).transform(x)"
      ],
      "id": "qmKjQJ7nbGk7",
      "execution_count": null,
      "outputs": []
    },
    {
      "cell_type": "markdown",
      "metadata": {
        "id": "XIdIVvRubDRz"
      },
      "source": [
        "## Train test split"
      ],
      "id": "XIdIVvRubDRz"
    },
    {
      "cell_type": "code",
      "metadata": {
        "id": "e6S2yFNH0uCZ"
      },
      "source": [
        "from sklearn.model_selection import train_test_split"
      ],
      "id": "e6S2yFNH0uCZ",
      "execution_count": null,
      "outputs": []
    },
    {
      "cell_type": "code",
      "metadata": {
        "id": "_zGNumPMbrGB"
      },
      "source": [
        "x_train, x_test, y_train, y_test = train_test_split(x, y, test_size=0.2, random_state=110)"
      ],
      "id": "_zGNumPMbrGB",
      "execution_count": null,
      "outputs": []
    },
    {
      "cell_type": "code",
      "metadata": {
        "colab": {
          "base_uri": "https://localhost:8080/"
        },
        "id": "Yq-66nsFb5sl",
        "outputId": "834b78da-f480-4d51-a70d-55f6454a66ab"
      },
      "source": [
        "x_train"
      ],
      "id": "Yq-66nsFb5sl",
      "execution_count": null,
      "outputs": [
        {
          "output_type": "execute_result",
          "data": {
            "text/plain": [
              "array([[-0.97532146,  0.11732167, -1.4970449 , ...,  2.26940461,\n",
              "         0.90856132, -2.64559811],\n",
              "       [ 0.56300099,  1.02424229, -1.09894218, ..., -2.57998804,\n",
              "        -0.21190603,  0.34143606],\n",
              "       [ 0.09559334, -2.58533625,  0.39990663, ..., -0.24130526,\n",
              "        -0.17281358, -0.33658581],\n",
              "       ...,\n",
              "       [ 2.12216192,  1.50619018, -0.76929892, ...,  0.52635056,\n",
              "        -0.34208103, -0.70128137],\n",
              "       [-1.54143562,  0.89190125, -0.72691893, ...,  0.34104979,\n",
              "         1.14998138, -0.00751722],\n",
              "       [-0.06261452, -0.44204305,  0.20956742, ...,  0.51145494,\n",
              "        -0.02682014,  1.0192244 ]])"
            ]
          },
          "metadata": {},
          "execution_count": 41
        }
      ]
    },
    {
      "cell_type": "markdown",
      "metadata": {
        "id": "xp8UBd5BcADU"
      },
      "source": [
        "## Logistic Regression Model"
      ],
      "id": "xp8UBd5BcADU"
    },
    {
      "cell_type": "code",
      "metadata": {
        "id": "Tlxmq1tIcctE"
      },
      "source": [
        "from sklearn.linear_model import LogisticRegression\n",
        "clf_lr = LogisticRegression(solver='liblinear', class_weight= 'balanced')\n",
        "clf_lr.fit(x_train, y_train)\n",
        "y_pred_lr = clf_lr.predict(x_test)"
      ],
      "id": "Tlxmq1tIcctE",
      "execution_count": null,
      "outputs": []
    },
    {
      "cell_type": "code",
      "metadata": {
        "id": "8alS8W7MdBAw"
      },
      "source": [
        "from sklearn.model_selection import cross_val_score, cross_val_predict\n",
        "from sklearn.metrics import accuracy_score, plot_confusion_matrix, classification_report, roc_auc_score"
      ],
      "id": "8alS8W7MdBAw",
      "execution_count": null,
      "outputs": []
    },
    {
      "cell_type": "code",
      "metadata": {
        "colab": {
          "base_uri": "https://localhost:8080/"
        },
        "id": "fRmkELZwc3No",
        "outputId": "a995561e-3e74-4f74-e7aa-274bf75268ee"
      },
      "source": [
        "lr_accuracy = round(accuracy_score(y_test, y_pred_lr)*100,2)\n",
        "print(f'Accuracy : {lr_accuracy}%')"
      ],
      "id": "fRmkELZwc3No",
      "execution_count": null,
      "outputs": [
        {
          "output_type": "stream",
          "name": "stdout",
          "text": [
            "Accuracy : 48.61%\n"
          ]
        }
      ]
    },
    {
      "cell_type": "code",
      "metadata": {
        "colab": {
          "base_uri": "https://localhost:8080/"
        },
        "id": "kJyEJdHSdCdr",
        "outputId": "5016ee56-d2b5-4637-cf12-cb7dc9845bbf"
      },
      "source": [
        "print(f'Cross val score: {np.mean(cross_val_score(clf_lr, x, y, cv=10, n_jobs=-1)).round(2)*100}%')"
      ],
      "id": "kJyEJdHSdCdr",
      "execution_count": null,
      "outputs": [
        {
          "output_type": "stream",
          "name": "stdout",
          "text": [
            "Cross val score: 50.0%\n"
          ]
        }
      ]
    },
    {
      "cell_type": "code",
      "metadata": {
        "colab": {
          "base_uri": "https://localhost:8080/",
          "height": 296
        },
        "id": "W2FCCl4RdN-V",
        "outputId": "4951a335-6042-40c9-8187-d2e777b20ca1"
      },
      "source": [
        "plot_confusion_matrix(clf_lr, x_test, y_test, cmap='Blues', values_format='d')"
      ],
      "id": "W2FCCl4RdN-V",
      "execution_count": null,
      "outputs": [
        {
          "output_type": "execute_result",
          "data": {
            "text/plain": [
              "<sklearn.metrics._plot.confusion_matrix.ConfusionMatrixDisplay at 0x7f0aa28536d0>"
            ]
          },
          "metadata": {},
          "execution_count": 46
        },
        {
          "output_type": "display_data",
          "data": {
            "image/png": "[encoded data removed]",
            "text/plain": [
              "<Figure size 432x288 with 2 Axes>"
            ]
          },
          "metadata": {
            "needs_background": "light"
          }
        }
      ]
    },
    {
      "cell_type": "code",
      "metadata": {
        "colab": {
          "base_uri": "https://localhost:8080/",
          "height": 279
        },
        "id": "g-85py0c-cOW",
        "outputId": "49644528-8cce-49bd-9707-c9ee97d140f7"
      },
      "source": [
        "plot_roc_curve(clf_lr, x_test, y_test)\n",
        "plt.grid()"
      ],
      "id": "g-85py0c-cOW",
      "execution_count": null,
      "outputs": [
        {
          "output_type": "display_data",
          "data": {
            "image/png": "[encoded data removed]",
            "text/plain": [
              "<Figure size 432x288 with 1 Axes>"
            ]
          },
          "metadata": {
            "needs_background": "light"
          }
        }
      ]
    },
    {
      "cell_type": "code",
      "metadata": {
        "colab": {
          "base_uri": "https://localhost:8080/"
        },
        "id": "BlXBQxsz-htD",
        "outputId": "33e4874f-bb42-4399-b1cd-ec74a1cd6495"
      },
      "source": [
        "lr_roc = round(roc_auc_score(y_test, y_pred_lr)*100,2)\n",
        "print(f'Roc auc score : {lr_roc}%')"
      ],
      "id": "BlXBQxsz-htD",
      "execution_count": null,
      "outputs": [
        {
          "output_type": "stream",
          "name": "stdout",
          "text": [
            "Roc auc score : 49.79%\n"
          ]
        }
      ]
    },
    {
      "cell_type": "markdown",
      "metadata": {
        "id": "7-21faYmvOY3"
      },
      "source": [
        "### find optimal parameter"
      ],
      "id": "7-21faYmvOY3"
    },
    {
      "cell_type": "code",
      "metadata": {
        "id": "1tsxFicvvQLr"
      },
      "source": [
        "from sklearn.model_selection import GridSearchCV"
      ],
      "id": "1tsxFicvvQLr",
      "execution_count": null,
      "outputs": []
    },
    {
      "cell_type": "code",
      "metadata": {
        "colab": {
          "base_uri": "https://localhost:8080/"
        },
        "id": "7nnLO48BvSzn",
        "outputId": "a2ffdff6-15b8-475d-ec47-422fd5090376"
      },
      "source": [
        "gs_lr = GridSearchCV(clf_lr,\n",
        "                  param_grid={'solver': ['newton-cg', 'lbfgs', 'liblinear', 'sag', 'saga']},\n",
        "                  scoring='roc_auc', return_train_score=True, n_jobs=-1)\n",
        "gs_lr.fit(x_train, y_train)"
      ],
      "id": "7nnLO48BvSzn",
      "execution_count": null,
      "outputs": [
        {
          "output_type": "execute_result",
          "data": {
            "text/plain": [
              "GridSearchCV(cv=None, error_score=nan,\n",
              "             estimator=LogisticRegression(C=1.0, class_weight='balanced',\n",
              "                                          dual=False, fit_intercept=True,\n",
              "                                          intercept_scaling=1, l1_ratio=None,\n",
              "                                          max_iter=100, multi_class='auto',\n",
              "                                          n_jobs=None, penalty='l2',\n",
              "                                          random_state=None, solver='liblinear',\n",
              "                                          tol=0.0001, verbose=0,\n",
              "                                          warm_start=False),\n",
              "             iid='deprecated', n_jobs=-1,\n",
              "             param_grid={'solver': ['newton-cg', 'lbfgs', 'liblinear', 'sag',\n",
              "                                    'saga']},\n",
              "             pre_dispatch='2*n_jobs', refit=True, return_train_score=True,\n",
              "             scoring='roc_auc', verbose=0)"
            ]
          },
          "metadata": {},
          "execution_count": 50
        }
      ]
    },
    {
      "cell_type": "code",
      "metadata": {
        "colab": {
          "base_uri": "https://localhost:8080/"
        },
        "id": "DaVGvuTMvlQT",
        "outputId": "a16bf788-c4bc-4b81-cc1d-33b67787777d"
      },
      "source": [
        "gs_lr.best_params_"
      ],
      "id": "DaVGvuTMvlQT",
      "execution_count": null,
      "outputs": [
        {
          "output_type": "execute_result",
          "data": {
            "text/plain": [
              "{'solver': 'newton-cg'}"
            ]
          },
          "metadata": {},
          "execution_count": 51
        }
      ]
    },
    {
      "cell_type": "markdown",
      "metadata": {
        "id": "T4Q87C1bvptW"
      },
      "source": [
        "### optimal parameter"
      ],
      "id": "T4Q87C1bvptW"
    },
    {
      "cell_type": "code",
      "metadata": {
        "id": "nBHtj7mhvuKv"
      },
      "source": [
        "clf_lr_op = LogisticRegression(solver='newton-cg', class_weight= 'balanced')\n",
        "clf_lr_op.fit(x_train, y_train)\n",
        "y_pred_lr_op = clf_lr_op.predict(x_test)"
      ],
      "id": "nBHtj7mhvuKv",
      "execution_count": null,
      "outputs": []
    },
    {
      "cell_type": "code",
      "metadata": {
        "colab": {
          "base_uri": "https://localhost:8080/"
        },
        "id": "QfY1XZgb6Gbg",
        "outputId": "a7753150-f1e0-4908-d780-214c5d99c8c1"
      },
      "source": [
        "lr_accuracy = round(accuracy_score(y_test, y_pred_lr_op)*100,2)\n",
        "print(f'Accuracy : {lr_accuracy}%')"
      ],
      "id": "QfY1XZgb6Gbg",
      "execution_count": null,
      "outputs": [
        {
          "output_type": "stream",
          "name": "stdout",
          "text": [
            "Accuracy : 48.61%\n"
          ]
        }
      ]
    },
    {
      "cell_type": "code",
      "metadata": {
        "colab": {
          "base_uri": "https://localhost:8080/"
        },
        "id": "bW3YjMb_v3hN",
        "outputId": "295a33eb-c0b7-44e8-8740-8d46f77e453a"
      },
      "source": [
        "print(f'Cross val score: {np.mean(cross_val_score(clf_lr_op, x, y, cv=9, n_jobs=-1)).round(2)*100}%')"
      ],
      "id": "bW3YjMb_v3hN",
      "execution_count": null,
      "outputs": [
        {
          "output_type": "stream",
          "name": "stdout",
          "text": [
            "Cross val score: 50.0%\n"
          ]
        }
      ]
    },
    {
      "cell_type": "code",
      "metadata": {
        "colab": {
          "base_uri": "https://localhost:8080/",
          "height": 279
        },
        "id": "Dmx2b7Ge8Hun",
        "outputId": "7e753bc8-6b5d-4fdb-dbd0-01df84915f02"
      },
      "source": [
        "plot_roc_curve(clf_lr_op, x_test, y_test)\n",
        "plt.grid()"
      ],
      "id": "Dmx2b7Ge8Hun",
      "execution_count": null,
      "outputs": [
        {
          "output_type": "display_data",
          "data": {
            "image/png": "[encoded data removed]",
            "text/plain": [
              "<Figure size 432x288 with 1 Axes>"
            ]
          },
          "metadata": {
            "needs_background": "light"
          }
        }
      ]
    },
    {
      "cell_type": "code",
      "metadata": {
        "colab": {
          "base_uri": "https://localhost:8080/"
        },
        "id": "UrT4OPI1UKrO",
        "outputId": "a4d697a2-7f48-4060-db74-d78f73485b92"
      },
      "source": [
        "print(classification_report(y_test, y_pred_lr_op))"
      ],
      "id": "UrT4OPI1UKrO",
      "execution_count": null,
      "outputs": [
        {
          "output_type": "stream",
          "name": "stdout",
          "text": [
            "              precision    recall  f1-score   support\n",
            "\n",
            "           0       0.62      0.45      0.52       223\n",
            "           1       0.38      0.55      0.45       137\n",
            "\n",
            "    accuracy                           0.49       360\n",
            "   macro avg       0.50      0.50      0.48       360\n",
            "weighted avg       0.53      0.49      0.49       360\n",
            "\n"
          ]
        }
      ]
    },
    {
      "cell_type": "code",
      "metadata": {
        "colab": {
          "base_uri": "https://localhost:8080/"
        },
        "id": "_MfkIo1Ltu6_",
        "outputId": "d65ad0a3-cc7f-4362-a512-7a935e7e05bf"
      },
      "source": [
        "lr_roc = round(roc_auc_score(y_test, y_pred_lr_op)*100,2)\n",
        "print(f'Roc auc score : {lr_roc}%')"
      ],
      "id": "_MfkIo1Ltu6_",
      "execution_count": null,
      "outputs": [
        {
          "output_type": "stream",
          "name": "stdout",
          "text": [
            "Roc auc score : 49.79%\n"
          ]
        }
      ]
    },
    {
      "cell_type": "code",
      "metadata": {
        "colab": {
          "base_uri": "https://localhost:8080/",
          "height": 296
        },
        "id": "vSDigMuEAc8i",
        "outputId": "12667895-1c07-4b03-9185-f8bd2025457f"
      },
      "source": [
        "plot_confusion_matrix(clf_lr_op, x_test, y_test, cmap='Blues', values_format='d')"
      ],
      "id": "vSDigMuEAc8i",
      "execution_count": null,
      "outputs": [
        {
          "output_type": "execute_result",
          "data": {
            "text/plain": [
              "<sklearn.metrics._plot.confusion_matrix.ConfusionMatrixDisplay at 0x7f0aa0512250>"
            ]
          },
          "metadata": {},
          "execution_count": 58
        },
        {
          "output_type": "display_data",
          "data": {
            "image/png": "[encoded data removed]",
            "text/plain": [
              "<Figure size 432x288 with 2 Axes>"
            ]
          },
          "metadata": {
            "needs_background": "light"
          }
        }
      ]
    },
    {
      "cell_type": "markdown",
      "metadata": {
        "id": "8Y4suGiEdU3O"
      },
      "source": [
        "## KNN"
      ],
      "id": "8Y4suGiEdU3O"
    },
    {
      "cell_type": "code",
      "metadata": {
        "id": "SO9BzcB-dbq8"
      },
      "source": [
        "from sklearn.neighbors import KNeighborsClassifier"
      ],
      "id": "SO9BzcB-dbq8",
      "execution_count": null,
      "outputs": []
    },
    {
      "cell_type": "code",
      "metadata": {
        "id": "FjQbBv-Qdhgr"
      },
      "source": [
        "clf_knn = KNeighborsClassifier(n_neighbors=5)\n",
        "clf_knn.fit(x_train, y_train)\n",
        "y_pred_knn = clf_knn.predict(x_test)"
      ],
      "id": "FjQbBv-Qdhgr",
      "execution_count": null,
      "outputs": []
    },
    {
      "cell_type": "code",
      "metadata": {
        "colab": {
          "base_uri": "https://localhost:8080/"
        },
        "id": "dNvsn0DseAT4",
        "outputId": "974325d2-54fa-4890-8cde-3984616b9f5f"
      },
      "source": [
        "knn_accuracy = round(accuracy_score(y_test, y_pred_knn)*100,2)\n",
        "print(f'Accuracy : {knn_accuracy}%')"
      ],
      "id": "dNvsn0DseAT4",
      "execution_count": null,
      "outputs": [
        {
          "output_type": "stream",
          "name": "stdout",
          "text": [
            "Accuracy : 61.11%\n"
          ]
        }
      ]
    },
    {
      "cell_type": "code",
      "metadata": {
        "colab": {
          "base_uri": "https://localhost:8080/"
        },
        "id": "U1f2UsdGew_1",
        "outputId": "7fc46195-dc58-49bf-9ffe-53491878810e"
      },
      "source": [
        "print(f'Cross val score: {np.mean(cross_val_score(clf_knn, x, y, cv=9, n_jobs=-1)).round(2)*100}%')"
      ],
      "id": "U1f2UsdGew_1",
      "execution_count": null,
      "outputs": [
        {
          "output_type": "stream",
          "name": "stdout",
          "text": [
            "Cross val score: 59.0%\n"
          ]
        }
      ]
    },
    {
      "cell_type": "code",
      "metadata": {
        "colab": {
          "base_uri": "https://localhost:8080/",
          "height": 296
        },
        "id": "HNkG7vB9e-mX",
        "outputId": "dc810666-4b30-4bbb-f103-cf799b8470e1"
      },
      "source": [
        "plot_confusion_matrix(clf_knn, x_test, y_test, cmap='Blues', values_format='d')"
      ],
      "id": "HNkG7vB9e-mX",
      "execution_count": null,
      "outputs": [
        {
          "output_type": "execute_result",
          "data": {
            "text/plain": [
              "<sklearn.metrics._plot.confusion_matrix.ConfusionMatrixDisplay at 0x7f0aa04a8e10>"
            ]
          },
          "metadata": {},
          "execution_count": 63
        },
        {
          "output_type": "display_data",
          "data": {
            "image/png": "[encoded data removed]",
            "text/plain": [
              "<Figure size 432x288 with 2 Axes>"
            ]
          },
          "metadata": {
            "needs_background": "light"
          }
        }
      ]
    },
    {
      "cell_type": "code",
      "metadata": {
        "colab": {
          "base_uri": "https://localhost:8080/",
          "height": 279
        },
        "id": "7yKXYTjkGa99",
        "outputId": "58ec0291-9710-4dae-f945-96d8712fc512"
      },
      "source": [
        "plot_roc_curve(clf_knn, x_test, y_test)\n",
        "plt.grid()"
      ],
      "id": "7yKXYTjkGa99",
      "execution_count": null,
      "outputs": [
        {
          "output_type": "display_data",
          "data": {
            "image/png": "[encoded data removed]",
            "text/plain": [
              "<Figure size 432x288 with 1 Axes>"
            ]
          },
          "metadata": {
            "needs_background": "light"
          }
        }
      ]
    },
    {
      "cell_type": "code",
      "metadata": {
        "colab": {
          "base_uri": "https://localhost:8080/"
        },
        "id": "c8obnvUO-0JU",
        "outputId": "e0cd71bf-d062-4939-eb79-33f1f8150d29"
      },
      "source": [
        "knn_roc = round(roc_auc_score(y_test, y_pred_knn)*100,2)\n",
        "print(f'Roc auc score : {knn_roc}%')"
      ],
      "id": "c8obnvUO-0JU",
      "execution_count": null,
      "outputs": [
        {
          "output_type": "stream",
          "name": "stdout",
          "text": [
            "Roc auc score : 57.35%\n"
          ]
        }
      ]
    },
    {
      "cell_type": "markdown",
      "metadata": {
        "id": "qnAz-ELyq6bA"
      },
      "source": [
        "### find optimal parameter"
      ],
      "id": "qnAz-ELyq6bA"
    },
    {
      "cell_type": "code",
      "metadata": {
        "colab": {
          "base_uri": "https://localhost:8080/",
          "height": 407
        },
        "id": "SqAwfxMczdCJ",
        "outputId": "bbc62ef7-502f-47cb-c00c-3ec0a60f037b"
      },
      "source": [
        "error = []\n",
        "for i in range(1,100):\n",
        "    knn = KNeighborsClassifier(n_neighbors=i)\n",
        "    knn.fit(x_train, y_train)\n",
        "    pred_i = knn.predict(x_test)\n",
        "    error.append(np.mean(pred_i != y_test))\n",
        "\n",
        "plt.figure(figsize=(12,6))\n",
        "plt.plot(range(1, 100), error, color='red', linestyle='dashed', marker='o', markerfacecolor='blue', markersize =10)\n",
        "plt.title('Error Rate K Value')\n",
        "print(f'Best n_neighbors : {np.argmin(error)+1}')"
      ],
      "id": "SqAwfxMczdCJ",
      "execution_count": null,
      "outputs": [
        {
          "output_type": "stream",
          "name": "stdout",
          "text": [
            "Best n_neighbors : 27\n"
          ]
        },
        {
          "output_type": "display_data",
          "data": {
            "image/png": "[encoded data removed]",
            "text/plain": [
              "<Figure size 864x432 with 1 Axes>"
            ]
          },
          "metadata": {
            "needs_background": "light"
          }
        }
      ]
    },
    {
      "cell_type": "markdown",
      "metadata": {
        "id": "QZBjbUftuhiv"
      },
      "source": [
        "### optimal parameter"
      ],
      "id": "QZBjbUftuhiv"
    },
    {
      "cell_type": "code",
      "metadata": {
        "id": "PdRnAQn5ujuy"
      },
      "source": [
        "clf_knn_op = KNeighborsClassifier(n_neighbors=27)\n",
        "clf_knn_op.fit(x_train, y_train)\n",
        "y_pred_knn_op = clf_knn_op.predict(x_test)"
      ],
      "id": "PdRnAQn5ujuy",
      "execution_count": null,
      "outputs": []
    },
    {
      "cell_type": "code",
      "metadata": {
        "colab": {
          "base_uri": "https://localhost:8080/"
        },
        "id": "VnkBBCh6urhg",
        "outputId": "270c6c13-ac37-4cfe-d7e2-7dd2c682dd3d"
      },
      "source": [
        "knn_accuracy = round(accuracy_score(y_test, y_pred_knn_op)*100,2)\n",
        "print(f'Accuracy : {knn_accuracy}%')"
      ],
      "id": "VnkBBCh6urhg",
      "execution_count": null,
      "outputs": [
        {
          "output_type": "stream",
          "name": "stdout",
          "text": [
            "Accuracy : 66.94%\n"
          ]
        }
      ]
    },
    {
      "cell_type": "code",
      "metadata": {
        "colab": {
          "base_uri": "https://localhost:8080/",
          "height": 296
        },
        "id": "dLGMJD5duuyv",
        "outputId": "a57de252-e066-4a38-bb5c-64ed6f160c74"
      },
      "source": [
        "plot_confusion_matrix(clf_knn_op, x_test, y_test, cmap='Blues', values_format='d')"
      ],
      "id": "dLGMJD5duuyv",
      "execution_count": null,
      "outputs": [
        {
          "output_type": "execute_result",
          "data": {
            "text/plain": [
              "<sklearn.metrics._plot.confusion_matrix.ConfusionMatrixDisplay at 0x7f0a9f5a74d0>"
            ]
          },
          "metadata": {},
          "execution_count": 70
        },
        {
          "output_type": "display_data",
          "data": {
            "image/png": "[encoded data removed]",
            "text/plain": [
              "<Figure size 432x288 with 2 Axes>"
            ]
          },
          "metadata": {
            "needs_background": "light"
          }
        }
      ]
    },
    {
      "cell_type": "code",
      "metadata": {
        "colab": {
          "base_uri": "https://localhost:8080/",
          "height": 279
        },
        "id": "FMiR-qa-8BDE",
        "outputId": "908c25c9-1832-4ec6-8baa-9a1aaddacf7d"
      },
      "source": [
        "plot_roc_curve(clf_knn_op, x_test, y_test)\n",
        "plt.grid()"
      ],
      "id": "FMiR-qa-8BDE",
      "execution_count": null,
      "outputs": [
        {
          "output_type": "display_data",
          "data": {
            "image/png": "[encoded data removed]",
            "text/plain": [
              "<Figure size 432x288 with 1 Axes>"
            ]
          },
          "metadata": {
            "needs_background": "light"
          }
        }
      ]
    },
    {
      "cell_type": "code",
      "metadata": {
        "colab": {
          "base_uri": "https://localhost:8080/"
        },
        "id": "sXP1_Xy8Tm4f",
        "outputId": "c27d5fd3-d414-4f87-831c-3f5e0bd1340d"
      },
      "source": [
        "print(classification_report(y_test, y_pred_knn_op))"
      ],
      "id": "sXP1_Xy8Tm4f",
      "execution_count": null,
      "outputs": [
        {
          "output_type": "stream",
          "name": "stdout",
          "text": [
            "              precision    recall  f1-score   support\n",
            "\n",
            "           0       0.67      0.91      0.77       223\n",
            "           1       0.66      0.27      0.38       137\n",
            "\n",
            "    accuracy                           0.67       360\n",
            "   macro avg       0.67      0.59      0.58       360\n",
            "weighted avg       0.67      0.67      0.63       360\n",
            "\n"
          ]
        }
      ]
    },
    {
      "cell_type": "code",
      "metadata": {
        "colab": {
          "base_uri": "https://localhost:8080/"
        },
        "id": "f2hkuQX3tp6T",
        "outputId": "9fb60a59-72a1-4d6f-ec0e-8143a7e7fc50"
      },
      "source": [
        "knn_roc = round(roc_auc_score(y_test, y_pred_knn_op)*100,2)\n",
        "print(f'Roc auc score : {knn_roc}%')"
      ],
      "id": "f2hkuQX3tp6T",
      "execution_count": null,
      "outputs": [
        {
          "output_type": "stream",
          "name": "stdout",
          "text": [
            "Roc auc score : 59.24%\n"
          ]
        }
      ]
    },
    {
      "cell_type": "markdown",
      "metadata": {
        "id": "2KmX1FvQfBvZ"
      },
      "source": [
        "## Decision tree"
      ],
      "id": "2KmX1FvQfBvZ"
    },
    {
      "cell_type": "code",
      "metadata": {
        "id": "-H74q40afInI"
      },
      "source": [
        "from sklearn.tree import DecisionTreeClassifier"
      ],
      "id": "-H74q40afInI",
      "execution_count": null,
      "outputs": []
    },
    {
      "cell_type": "code",
      "metadata": {
        "id": "PT2gs9DEfOEQ"
      },
      "source": [
        "clf_dt = DecisionTreeClassifier(random_state=50)\n",
        "clf_dt.fit(x_train, y_train)\n",
        "y_pred_dt = clf_dt.predict(x_test)"
      ],
      "id": "PT2gs9DEfOEQ",
      "execution_count": null,
      "outputs": []
    },
    {
      "cell_type": "code",
      "metadata": {
        "colab": {
          "base_uri": "https://localhost:8080/"
        },
        "id": "BLnZZpByfXq7",
        "outputId": "2c06bc7b-ce89-4b28-87a4-71f02204bd56"
      },
      "source": [
        "dt_accuracy = round(accuracy_score(y_test, y_pred_dt)*100,2)\n",
        "print(f'Accuracy : {dt_accuracy}%')"
      ],
      "id": "BLnZZpByfXq7",
      "execution_count": null,
      "outputs": [
        {
          "output_type": "stream",
          "name": "stdout",
          "text": [
            "Accuracy : 56.11%\n"
          ]
        }
      ]
    },
    {
      "cell_type": "code",
      "metadata": {
        "colab": {
          "base_uri": "https://localhost:8080/"
        },
        "id": "vwSaGzOufsqi",
        "outputId": "7ff35433-7e8d-4517-d01b-29a00922da50"
      },
      "source": [
        "print(f'Cross val score: {np.mean(cross_val_score(clf_dt, x, y, cv=10, n_jobs=-1)).round(2)*100}%')"
      ],
      "id": "vwSaGzOufsqi",
      "execution_count": null,
      "outputs": [
        {
          "output_type": "stream",
          "name": "stdout",
          "text": [
            "Cross val score: 56.99999999999999%\n"
          ]
        }
      ]
    },
    {
      "cell_type": "code",
      "metadata": {
        "colab": {
          "base_uri": "https://localhost:8080/",
          "height": 296
        },
        "id": "rgnloHDQoZ56",
        "outputId": "0ebe9cc7-99b0-46ac-b8d2-fecd990e547f"
      },
      "source": [
        "plot_confusion_matrix(clf_dt, x_test, y_test, cmap='Blues', values_format='d')"
      ],
      "id": "rgnloHDQoZ56",
      "execution_count": null,
      "outputs": [
        {
          "output_type": "execute_result",
          "data": {
            "text/plain": [
              "<sklearn.metrics._plot.confusion_matrix.ConfusionMatrixDisplay at 0x7f0aa0e27bd0>"
            ]
          },
          "metadata": {},
          "execution_count": 78
        },
        {
          "output_type": "display_data",
          "data": {
            "image/png": "[encoded data removed]",
            "text/plain": [
              "<Figure size 432x288 with 2 Axes>"
            ]
          },
          "metadata": {
            "needs_background": "light"
          }
        }
      ]
    },
    {
      "cell_type": "code",
      "metadata": {
        "colab": {
          "base_uri": "https://localhost:8080/"
        },
        "id": "3xMNC5QL--Vm",
        "outputId": "f4d0f8aa-de48-4d1a-c8c5-5e6e867453eb"
      },
      "source": [
        "dt_roc = round(roc_auc_score(y_test, y_pred_dt)*100,2)\n",
        "print(f'Roc auc score : {dt_roc}%')"
      ],
      "id": "3xMNC5QL--Vm",
      "execution_count": null,
      "outputs": [
        {
          "output_type": "stream",
          "name": "stdout",
          "text": [
            "Roc auc score : 53.6%\n"
          ]
        }
      ]
    },
    {
      "cell_type": "markdown",
      "metadata": {
        "id": "SreS0-znsY5l"
      },
      "source": [
        "### find optimal parameter"
      ],
      "id": "SreS0-znsY5l"
    },
    {
      "cell_type": "code",
      "metadata": {
        "colab": {
          "base_uri": "https://localhost:8080/"
        },
        "id": "lqrzJq_9sbZO",
        "outputId": "046cfc23-9ff1-4cd6-bfcf-5c9d159b0d2b"
      },
      "source": [
        "gs_dt = GridSearchCV(clf_dt,\n",
        "                  param_grid={'criterion': ['gini', 'entropy'], 'max_depth': range(1,20)},\n",
        "                  scoring='roc_auc', return_train_score=True, n_jobs=-1)\n",
        "gs_dt.fit(x_train, y_train)"
      ],
      "id": "lqrzJq_9sbZO",
      "execution_count": null,
      "outputs": [
        {
          "output_type": "execute_result",
          "data": {
            "text/plain": [
              "GridSearchCV(cv=None, error_score=nan,\n",
              "             estimator=DecisionTreeClassifier(ccp_alpha=0.0, class_weight=None,\n",
              "                                              criterion='gini', max_depth=None,\n",
              "                                              max_features=None,\n",
              "                                              max_leaf_nodes=None,\n",
              "                                              min_impurity_decrease=0.0,\n",
              "                                              min_impurity_split=None,\n",
              "                                              min_samples_leaf=1,\n",
              "                                              min_samples_split=2,\n",
              "                                              min_weight_fraction_leaf=0.0,\n",
              "                                              presort='deprecated',\n",
              "                                              random_state=50,\n",
              "                                              splitter='best'),\n",
              "             iid='deprecated', n_jobs=-1,\n",
              "             param_grid={'criterion': ['gini', 'entropy'],\n",
              "                         'max_depth': range(1, 20)},\n",
              "             pre_dispatch='2*n_jobs', refit=True, return_train_score=True,\n",
              "             scoring='roc_auc', verbose=0)"
            ]
          },
          "metadata": {},
          "execution_count": 80
        }
      ]
    },
    {
      "cell_type": "code",
      "metadata": {
        "colab": {
          "base_uri": "https://localhost:8080/"
        },
        "id": "XBc2Pu9gtPoM",
        "outputId": "3b29a01d-c55e-4800-983c-3799e70abbc1"
      },
      "source": [
        "gs_dt.best_params_"
      ],
      "id": "XBc2Pu9gtPoM",
      "execution_count": null,
      "outputs": [
        {
          "output_type": "execute_result",
          "data": {
            "text/plain": [
              "{'criterion': 'entropy', 'max_depth': 5}"
            ]
          },
          "metadata": {},
          "execution_count": 81
        }
      ]
    },
    {
      "cell_type": "markdown",
      "metadata": {
        "id": "AI1UylAQtYSl"
      },
      "source": [
        "### optimal parameter"
      ],
      "id": "AI1UylAQtYSl"
    },
    {
      "cell_type": "code",
      "metadata": {
        "id": "IuIHeI-8tXr2"
      },
      "source": [
        "clf_dt_op = DecisionTreeClassifier(criterion = 'entropy', max_depth = 5)\n",
        "clf_dt_op.fit(x_train, y_train)\n",
        "y_pred_dt_op = clf_dt_op.predict(x_test)"
      ],
      "id": "IuIHeI-8tXr2",
      "execution_count": null,
      "outputs": []
    },
    {
      "cell_type": "code",
      "metadata": {
        "colab": {
          "base_uri": "https://localhost:8080/"
        },
        "id": "qsCYBuOYJkPY",
        "outputId": "9cb418b3-da30-4121-aa08-a64ed3a1c6d4"
      },
      "source": [
        "dt_accuracy = round(accuracy_score(y_test, y_pred_dt_op)*100,2)\n",
        "print(f'Accuracy : {dt_accuracy}%')"
      ],
      "id": "qsCYBuOYJkPY",
      "execution_count": null,
      "outputs": [
        {
          "output_type": "stream",
          "name": "stdout",
          "text": [
            "Accuracy : 62.22%\n"
          ]
        }
      ]
    },
    {
      "cell_type": "code",
      "metadata": {
        "colab": {
          "base_uri": "https://localhost:8080/"
        },
        "id": "7Pt1iI-EtiZ2",
        "outputId": "47f7a7ba-63f2-4c02-852b-0759583cb9d2"
      },
      "source": [
        "print(f'Cross val score: {np.mean(cross_val_score(clf_dt_op, x, y, cv=10, n_jobs=-1)).round(2)*100}%')"
      ],
      "id": "7Pt1iI-EtiZ2",
      "execution_count": null,
      "outputs": [
        {
          "output_type": "stream",
          "name": "stdout",
          "text": [
            "Cross val score: 62.0%\n"
          ]
        }
      ]
    },
    {
      "cell_type": "code",
      "metadata": {
        "colab": {
          "base_uri": "https://localhost:8080/",
          "height": 296
        },
        "id": "tzOjtNmFtxe_",
        "outputId": "88edcb0d-bd06-4ee3-c03d-2a320af6ed87"
      },
      "source": [
        "plot_confusion_matrix(clf_dt_op, x_test, y_test, cmap='Blues', values_format='d')"
      ],
      "id": "tzOjtNmFtxe_",
      "execution_count": null,
      "outputs": [
        {
          "output_type": "execute_result",
          "data": {
            "text/plain": [
              "<sklearn.metrics._plot.confusion_matrix.ConfusionMatrixDisplay at 0x7f0aa2eca090>"
            ]
          },
          "metadata": {},
          "execution_count": 85
        },
        {
          "output_type": "display_data",
          "data": {
            "image/png": "[encoded data removed]",
            "text/plain": [
              "<Figure size 432x288 with 2 Axes>"
            ]
          },
          "metadata": {
            "needs_background": "light"
          }
        }
      ]
    },
    {
      "cell_type": "code",
      "metadata": {
        "colab": {
          "base_uri": "https://localhost:8080/",
          "height": 279
        },
        "id": "VHP3o2RD1svx",
        "outputId": "f3b8c103-69da-482a-91b9-28e167b5d4f5"
      },
      "source": [
        "plot_roc_curve(clf_dt, x_test, y_test)\n",
        "plt.grid()"
      ],
      "id": "VHP3o2RD1svx",
      "execution_count": null,
      "outputs": [
        {
          "output_type": "display_data",
          "data": {
            "image/png": "[encoded data removed]",
            "text/plain": [
              "<Figure size 432x288 with 1 Axes>"
            ]
          },
          "metadata": {
            "needs_background": "light"
          }
        }
      ]
    },
    {
      "cell_type": "code",
      "metadata": {
        "colab": {
          "base_uri": "https://localhost:8080/"
        },
        "id": "7HN52fbSTho3",
        "outputId": "b114f901-31f6-472f-df97-e52b34efbbcc"
      },
      "source": [
        "print(classification_report(y_test, y_pred_dt_op))"
      ],
      "id": "7HN52fbSTho3",
      "execution_count": null,
      "outputs": [
        {
          "output_type": "stream",
          "name": "stdout",
          "text": [
            "              precision    recall  f1-score   support\n",
            "\n",
            "           0       0.65      0.83      0.73       223\n",
            "           1       0.51      0.29      0.37       137\n",
            "\n",
            "    accuracy                           0.62       360\n",
            "   macro avg       0.58      0.56      0.55       360\n",
            "weighted avg       0.60      0.62      0.59       360\n",
            "\n"
          ]
        }
      ]
    },
    {
      "cell_type": "code",
      "metadata": {
        "colab": {
          "base_uri": "https://localhost:8080/"
        },
        "id": "_96nIPqithvK",
        "outputId": "9324c6d9-4472-480c-e1c7-9130a1f3bcd4"
      },
      "source": [
        "dt_roc = round(roc_auc_score(y_test, y_pred_dt_op)*100,2)\n",
        "print(f'Roc auc score : {dt_roc}%')"
      ],
      "id": "_96nIPqithvK",
      "execution_count": null,
      "outputs": [
        {
          "output_type": "stream",
          "name": "stdout",
          "text": [
            "Roc auc score : 55.85%\n"
          ]
        }
      ]
    },
    {
      "cell_type": "markdown",
      "metadata": {
        "id": "8mSO3RXvf99Y"
      },
      "source": [
        "## SVM"
      ],
      "id": "8mSO3RXvf99Y"
    },
    {
      "cell_type": "code",
      "metadata": {
        "id": "Fh4cgrxtf-6o"
      },
      "source": [
        "from sklearn import svm"
      ],
      "id": "Fh4cgrxtf-6o",
      "execution_count": null,
      "outputs": []
    },
    {
      "cell_type": "code",
      "metadata": {
        "id": "dPNwG0yNf_We"
      },
      "source": [
        "clf_svm = svm.SVC(max_iter=10000, kernel='linear', C=0.1, class_weight='balanced')\n",
        "clf_svm.fit(x_train, y_train)\n",
        "y_pred_svm = clf_svm.predict(x_test)"
      ],
      "id": "dPNwG0yNf_We",
      "execution_count": null,
      "outputs": []
    },
    {
      "cell_type": "code",
      "metadata": {
        "colab": {
          "base_uri": "https://localhost:8080/"
        },
        "id": "UES0KyuAJUS7",
        "outputId": "9d9d2b22-9b9f-4adc-b123-a35c8f7e67e0"
      },
      "source": [
        "svm_accuracy = round(accuracy_score(y_test, y_pred_svm)*100,2)\n",
        "print(f'Accuracy : {svm_accuracy}%')"
      ],
      "id": "UES0KyuAJUS7",
      "execution_count": null,
      "outputs": [
        {
          "output_type": "stream",
          "name": "stdout",
          "text": [
            "Accuracy : 47.5%\n"
          ]
        }
      ]
    },
    {
      "cell_type": "code",
      "metadata": {
        "colab": {
          "base_uri": "https://localhost:8080/"
        },
        "id": "Tj7Krepngn68",
        "outputId": "340aa731-f7ae-4260-d0d3-6ccfffe79772"
      },
      "source": [
        "print(f'Cross val score: {np.mean(cross_val_score(clf_svm, x, y, cv=9, n_jobs=-1)).round(2)*100}%')"
      ],
      "id": "Tj7Krepngn68",
      "execution_count": null,
      "outputs": [
        {
          "output_type": "stream",
          "name": "stdout",
          "text": [
            "Cross val score: 50.0%\n"
          ]
        }
      ]
    },
    {
      "cell_type": "code",
      "metadata": {
        "colab": {
          "base_uri": "https://localhost:8080/",
          "height": 296
        },
        "id": "el4MLnPjqYYe",
        "outputId": "771cb34b-29df-42d5-ab11-6a3a98294079"
      },
      "source": [
        "plot_confusion_matrix(clf_svm, x_test, y_test, cmap='Blues', values_format='d')"
      ],
      "id": "el4MLnPjqYYe",
      "execution_count": null,
      "outputs": [
        {
          "output_type": "execute_result",
          "data": {
            "text/plain": [
              "<sklearn.metrics._plot.confusion_matrix.ConfusionMatrixDisplay at 0x7f0aa2f5db50>"
            ]
          },
          "metadata": {},
          "execution_count": 93
        },
        {
          "output_type": "display_data",
          "data": {
            "image/png": "[encoded data removed]",
            "text/plain": [
              "<Figure size 432x288 with 2 Axes>"
            ]
          },
          "metadata": {
            "needs_background": "light"
          }
        }
      ]
    },
    {
      "cell_type": "code",
      "metadata": {
        "colab": {
          "base_uri": "https://localhost:8080/",
          "height": 279
        },
        "id": "5tcX9onX1pzI",
        "outputId": "74ddde3c-c09b-470e-a4d0-b1f0e580e5b6"
      },
      "source": [
        "plot_roc_curve(clf_svm, x_test, y_test)\n",
        "plt.grid()"
      ],
      "id": "5tcX9onX1pzI",
      "execution_count": null,
      "outputs": [
        {
          "output_type": "display_data",
          "data": {
            "image/png": "[encoded data removed]",
            "text/plain": [
              "<Figure size 432x288 with 1 Axes>"
            ]
          },
          "metadata": {
            "needs_background": "light"
          }
        }
      ]
    },
    {
      "cell_type": "code",
      "metadata": {
        "colab": {
          "base_uri": "https://localhost:8080/"
        },
        "id": "4ZaYx7ez_GQZ",
        "outputId": "60fd861f-e822-49ba-8e31-ff38828f0939"
      },
      "source": [
        "svm_roc = round(roc_auc_score(y_test, y_pred_svm)*100,2)\n",
        "print(f'Roc auc score : {svm_roc}%')"
      ],
      "id": "4ZaYx7ez_GQZ",
      "execution_count": null,
      "outputs": [
        {
          "output_type": "stream",
          "name": "stdout",
          "text": [
            "Roc auc score : 49.88%\n"
          ]
        }
      ]
    },
    {
      "cell_type": "markdown",
      "metadata": {
        "id": "shFDXYZkwAde"
      },
      "source": [
        "### find optimal parameter"
      ],
      "id": "shFDXYZkwAde"
    },
    {
      "cell_type": "code",
      "metadata": {
        "colab": {
          "base_uri": "https://localhost:8080/"
        },
        "id": "6ap5dPDVwLQ8",
        "outputId": "259edd98-28c7-4dee-cdef-bae528d2c1cb"
      },
      "source": [
        "gs_svm = GridSearchCV(clf_svm,\n",
        "                  param_grid={'kernel': ['linear','rbf'],'C':np.arange(0.01,2,0.01)},\n",
        "                  scoring='roc_auc', return_train_score=True, n_jobs=-1)\n",
        "gs_svm.fit(x_train, y_train)"
      ],
      "id": "6ap5dPDVwLQ8",
      "execution_count": null,
      "outputs": [
        {
          "output_type": "execute_result",
          "data": {
            "text/plain": [
              "GridSearchCV(cv=None, error_score=nan,\n",
              "             estimator=SVC(C=0.1, break_ties=False, cache_size=200,\n",
              "                           class_weight='balanced', coef0=0.0,\n",
              "                           decision_function_shape='ovr', degree=3,\n",
              "                           gamma='scale', kernel='linear', max_iter=10000,\n",
              "                           probability=False, random_state=None, shrinking=True,\n",
              "                           tol=0.001, verbose=False),\n",
              "             iid='deprecated', n_jobs=-1,\n",
              "             param_grid={'C': array([0.01, 0.02, 0.03, 0....\n",
              "       1.44, 1.45, 1.46, 1.47, 1.48, 1.49, 1.5 , 1.51, 1.52, 1.53, 1.54,\n",
              "       1.55, 1.56, 1.57, 1.58, 1.59, 1.6 , 1.61, 1.62, 1.63, 1.64, 1.65,\n",
              "       1.66, 1.67, 1.68, 1.69, 1.7 , 1.71, 1.72, 1.73, 1.74, 1.75, 1.76,\n",
              "       1.77, 1.78, 1.79, 1.8 , 1.81, 1.82, 1.83, 1.84, 1.85, 1.86, 1.87,\n",
              "       1.88, 1.89, 1.9 , 1.91, 1.92, 1.93, 1.94, 1.95, 1.96, 1.97, 1.98,\n",
              "       1.99]),\n",
              "                         'kernel': ['linear', 'rbf']},\n",
              "             pre_dispatch='2*n_jobs', refit=True, return_train_score=True,\n",
              "             scoring='roc_auc', verbose=0)"
            ]
          },
          "metadata": {},
          "execution_count": 96
        }
      ]
    },
    {
      "cell_type": "code",
      "metadata": {
        "colab": {
          "base_uri": "https://localhost:8080/"
        },
        "id": "cPX6_Od2wjju",
        "outputId": "e53e905a-16fa-4d34-e88a-2c09d0a9c81b"
      },
      "source": [
        "gs_svm.best_params_"
      ],
      "id": "cPX6_Od2wjju",
      "execution_count": null,
      "outputs": [
        {
          "output_type": "execute_result",
          "data": {
            "text/plain": [
              "{'C': 1.84, 'kernel': 'rbf'}"
            ]
          },
          "metadata": {},
          "execution_count": 97
        }
      ]
    },
    {
      "cell_type": "markdown",
      "metadata": {
        "id": "um5i3yiq5jEj"
      },
      "source": [
        "### optimal parameter"
      ],
      "id": "um5i3yiq5jEj"
    },
    {
      "cell_type": "code",
      "metadata": {
        "id": "PrvG5gos0wde"
      },
      "source": [
        "clf_svm_op = svm.SVC(max_iter=10000, kernel='rbf', C=1.84, class_weight='balanced')\n",
        "clf_svm_op.fit(x_train, y_train)\n",
        "y_pred_svm_op = clf_svm_op.predict(x_test)"
      ],
      "id": "PrvG5gos0wde",
      "execution_count": null,
      "outputs": []
    },
    {
      "cell_type": "code",
      "metadata": {
        "colab": {
          "base_uri": "https://localhost:8080/"
        },
        "id": "GzlxAOUbICk5",
        "outputId": "5c839ace-f49c-4ad2-b22b-867efb25d45f"
      },
      "source": [
        "svm_accuracy = round(accuracy_score(y_test, y_pred_svm_op)*100,2)\n",
        "print(f'Accuracy : {svm_accuracy}%')"
      ],
      "id": "GzlxAOUbICk5",
      "execution_count": null,
      "outputs": [
        {
          "output_type": "stream",
          "name": "stdout",
          "text": [
            "Accuracy : 68.61%\n"
          ]
        }
      ]
    },
    {
      "cell_type": "code",
      "metadata": {
        "colab": {
          "base_uri": "https://localhost:8080/"
        },
        "id": "x_2DQVnQ04JG",
        "outputId": "3c6ccf1a-6418-431e-a19b-84e5daf1ad14"
      },
      "source": [
        "print(f'Cross val score: {np.mean(cross_val_score(clf_svm_op, x, y, cv=9, n_jobs=-1)).round(2)*100}%')"
      ],
      "id": "x_2DQVnQ04JG",
      "execution_count": null,
      "outputs": [
        {
          "output_type": "stream",
          "name": "stdout",
          "text": [
            "Cross val score: 61.0%\n"
          ]
        }
      ]
    },
    {
      "cell_type": "code",
      "metadata": {
        "colab": {
          "base_uri": "https://localhost:8080/",
          "height": 279
        },
        "id": "W7TaHSVP1fq_",
        "outputId": "b1088cd8-986b-47aa-eaeb-96fbf275e893"
      },
      "source": [
        "plot_roc_curve(clf_svm_op, x_test, y_test)\n",
        "plt.grid()"
      ],
      "id": "W7TaHSVP1fq_",
      "execution_count": null,
      "outputs": [
        {
          "output_type": "display_data",
          "data": {
            "image/png": "[encoded data removed]",
            "text/plain": [
              "<Figure size 432x288 with 1 Axes>"
            ]
          },
          "metadata": {
            "needs_background": "light"
          }
        }
      ]
    },
    {
      "cell_type": "code",
      "metadata": {
        "colab": {
          "base_uri": "https://localhost:8080/"
        },
        "id": "DgBt0p37Srw1",
        "outputId": "3531b0b3-ea5c-4aaa-b423-044d06766617"
      },
      "source": [
        "print(classification_report(y_test, y_pred_svm_op))"
      ],
      "id": "DgBt0p37Srw1",
      "execution_count": null,
      "outputs": [
        {
          "output_type": "stream",
          "name": "stdout",
          "text": [
            "              precision    recall  f1-score   support\n",
            "\n",
            "           0       0.76      0.72      0.74       223\n",
            "           1       0.58      0.64      0.61       137\n",
            "\n",
            "    accuracy                           0.69       360\n",
            "   macro avg       0.67      0.68      0.67       360\n",
            "weighted avg       0.69      0.69      0.69       360\n",
            "\n"
          ]
        }
      ]
    },
    {
      "cell_type": "code",
      "metadata": {
        "id": "HReaAmbFdn1c",
        "colab": {
          "base_uri": "https://localhost:8080/",
          "height": 300
        },
        "outputId": "94ce248b-63b3-4507-b540-e4c65ab5d52d"
      },
      "source": [
        "plot_confusion_matrix(clf_svm_op, x_test, y_test, cmap='Blues', values_format='d')"
      ],
      "id": "HReaAmbFdn1c",
      "execution_count": null,
      "outputs": [
        {
          "output_type": "execute_result",
          "data": {
            "text/plain": [
              "<sklearn.metrics._plot.confusion_matrix.ConfusionMatrixDisplay at 0x7f0aa2f62c50>"
            ]
          },
          "metadata": {},
          "execution_count": 103
        },
        {
          "output_type": "display_data",
          "data": {
            "image/png": "[encoded data removed]",
            "text/plain": [
              "<Figure size 432x288 with 2 Axes>"
            ]
          },
          "metadata": {
            "needs_background": "light"
          }
        }
      ]
    },
    {
      "cell_type": "code",
      "metadata": {
        "colab": {
          "base_uri": "https://localhost:8080/"
        },
        "id": "8JZ7VD-_tgDo",
        "outputId": "dd9e12b3-a58d-4352-8797-e3ceae33976f"
      },
      "source": [
        "svm_roc = round(roc_auc_score(y_test, y_pred_svm_op)*100,2)\n",
        "print(f'Roc auc score : {svm_roc}%')"
      ],
      "id": "8JZ7VD-_tgDo",
      "execution_count": null,
      "outputs": [
        {
          "output_type": "stream",
          "name": "stdout",
          "text": [
            "Roc auc score : 67.63%\n"
          ]
        }
      ]
    },
    {
      "cell_type": "markdown",
      "metadata": {
        "id": "geGtoi1QLfL7"
      },
      "source": [
        "## Ensemble"
      ],
      "id": "geGtoi1QLfL7"
    },
    {
      "cell_type": "code",
      "metadata": {
        "colab": {
          "base_uri": "https://localhost:8080/",
          "height": 419
        },
        "id": "lOISxpeALij-",
        "outputId": "4dc7a42f-7565-4de5-d3ba-74d5aa50e45b"
      },
      "source": [
        "voting_df = pd.DataFrame({'dt': y_pred_dt_op, 'knn': y_pred_knn_op, 'svm': y_pred_svm_op})\n",
        "voting_df"
      ],
      "id": "lOISxpeALij-",
      "execution_count": null,
      "outputs": [
        {
          "output_type": "execute_result",
          "data": {
            "text/html": [
              "<div>\n",
              "<style scoped>\n",
              "    .dataframe tbody tr th:only-of-type {\n",
              "        vertical-align: middle;\n",
              "    }\n",
              "\n",
              "    .dataframe tbody tr th {\n",
              "        vertical-align: top;\n",
              "    }\n",
              "\n",
              "    .dataframe thead th {\n",
              "        text-align: right;\n",
              "    }\n",
              "</style>\n",
              "<table border=\"1\" class=\"dataframe\">\n",
              "  <thead>\n",
              "    <tr style=\"text-align: right;\">\n",
              "      <th></th>\n",
              "      <th>dt</th>\n",
              "      <th>knn</th>\n",
              "      <th>svm</th>\n",
              "    </tr>\n",
              "  </thead>\n",
              "  <tbody>\n",
              "    <tr>\n",
              "      <th>0</th>\n",
              "      <td>1</td>\n",
              "      <td>1</td>\n",
              "      <td>1</td>\n",
              "    </tr>\n",
              "    <tr>\n",
              "      <th>1</th>\n",
              "      <td>0</td>\n",
              "      <td>0</td>\n",
              "      <td>0</td>\n",
              "    </tr>\n",
              "    <tr>\n",
              "      <th>2</th>\n",
              "      <td>0</td>\n",
              "      <td>0</td>\n",
              "      <td>1</td>\n",
              "    </tr>\n",
              "    <tr>\n",
              "      <th>3</th>\n",
              "      <td>1</td>\n",
              "      <td>0</td>\n",
              "      <td>0</td>\n",
              "    </tr>\n",
              "    <tr>\n",
              "      <th>4</th>\n",
              "      <td>0</td>\n",
              "      <td>0</td>\n",
              "      <td>0</td>\n",
              "    </tr>\n",
              "    <tr>\n",
              "      <th>...</th>\n",
              "      <td>...</td>\n",
              "      <td>...</td>\n",
              "      <td>...</td>\n",
              "    </tr>\n",
              "    <tr>\n",
              "      <th>355</th>\n",
              "      <td>0</td>\n",
              "      <td>0</td>\n",
              "      <td>0</td>\n",
              "    </tr>\n",
              "    <tr>\n",
              "      <th>356</th>\n",
              "      <td>1</td>\n",
              "      <td>1</td>\n",
              "      <td>1</td>\n",
              "    </tr>\n",
              "    <tr>\n",
              "      <th>357</th>\n",
              "      <td>0</td>\n",
              "      <td>0</td>\n",
              "      <td>1</td>\n",
              "    </tr>\n",
              "    <tr>\n",
              "      <th>358</th>\n",
              "      <td>0</td>\n",
              "      <td>0</td>\n",
              "      <td>0</td>\n",
              "    </tr>\n",
              "    <tr>\n",
              "      <th>359</th>\n",
              "      <td>0</td>\n",
              "      <td>0</td>\n",
              "      <td>0</td>\n",
              "    </tr>\n",
              "  </tbody>\n",
              "</table>\n",
              "<p>360 rows × 3 columns</p>\n",
              "</div>"
            ],
            "text/plain": [
              "     dt  knn  svm\n",
              "0     1    1    1\n",
              "1     0    0    0\n",
              "2     0    0    1\n",
              "3     1    0    0\n",
              "4     0    0    0\n",
              "..   ..  ...  ...\n",
              "355   0    0    0\n",
              "356   1    1    1\n",
              "357   0    0    1\n",
              "358   0    0    0\n",
              "359   0    0    0\n",
              "\n",
              "[360 rows x 3 columns]"
            ]
          },
          "metadata": {},
          "execution_count": 105
        }
      ]
    },
    {
      "cell_type": "code",
      "metadata": {
        "id": "qNEi9YZmL08J"
      },
      "source": [
        "voting_df = voting_df.sum(axis=1)\n"
      ],
      "id": "qNEi9YZmL08J",
      "execution_count": null,
      "outputs": []
    },
    {
      "cell_type": "code",
      "metadata": {
        "colab": {
          "base_uri": "https://localhost:8080/"
        },
        "id": "vYnRbSTfMSSM",
        "outputId": "48e0288d-3757-4024-973d-6f449e57b39f"
      },
      "source": [
        "voting_df = voting_df.apply(lambda x: 1 if x>=2 else 0)\n",
        "voting_df"
      ],
      "id": "vYnRbSTfMSSM",
      "execution_count": null,
      "outputs": [
        {
          "output_type": "execute_result",
          "data": {
            "text/plain": [
              "0      1\n",
              "1      0\n",
              "2      0\n",
              "3      0\n",
              "4      0\n",
              "      ..\n",
              "355    0\n",
              "356    1\n",
              "357    0\n",
              "358    0\n",
              "359    0\n",
              "Length: 360, dtype: int64"
            ]
          },
          "metadata": {},
          "execution_count": 107
        }
      ]
    },
    {
      "cell_type": "code",
      "metadata": {
        "colab": {
          "base_uri": "https://localhost:8080/"
        },
        "id": "Y-AsaK87MTfH",
        "outputId": "f203b9fc-e7f4-4b7d-dcb1-0d3ff8e6e275"
      },
      "source": [
        "ensemble_accuracy = round(accuracy_score(y_test, voting_df)*100,2)\n",
        "print(f'Accuracy : {ensemble_accuracy}%')"
      ],
      "id": "Y-AsaK87MTfH",
      "execution_count": null,
      "outputs": [
        {
          "output_type": "stream",
          "name": "stdout",
          "text": [
            "Accuracy : 67.5%\n"
          ]
        }
      ]
    },
    {
      "cell_type": "code",
      "metadata": {
        "colab": {
          "base_uri": "https://localhost:8080/"
        },
        "id": "Kq0VAfiktaUU",
        "outputId": "16013b47-687b-4683-d59c-6cc69979fe12"
      },
      "source": [
        "ensemble_roc = round(roc_auc_score(y_test, voting_df)*100,2)\n",
        "print(f'Roc auc score : {ensemble_roc}%')"
      ],
      "id": "Kq0VAfiktaUU",
      "execution_count": null,
      "outputs": [
        {
          "output_type": "stream",
          "name": "stdout",
          "text": [
            "Roc auc score : 62.08%\n"
          ]
        }
      ]
    },
    {
      "cell_type": "code",
      "metadata": {
        "colab": {
          "base_uri": "https://localhost:8080/"
        },
        "id": "2-p9IuTaTUvD",
        "outputId": "aff805c4-56d9-492a-ea3e-fd38716ca07c"
      },
      "source": [
        "print(classification_report(y_test, voting_df))"
      ],
      "id": "2-p9IuTaTUvD",
      "execution_count": null,
      "outputs": [
        {
          "output_type": "stream",
          "name": "stdout",
          "text": [
            "              precision    recall  f1-score   support\n",
            "\n",
            "           0       0.69      0.85      0.76       223\n",
            "           1       0.61      0.39      0.48       137\n",
            "\n",
            "    accuracy                           0.68       360\n",
            "   macro avg       0.65      0.62      0.62       360\n",
            "weighted avg       0.66      0.68      0.66       360\n",
            "\n"
          ]
        }
      ]
    },
    {
      "cell_type": "markdown",
      "metadata": {
        "id": "VkrAwwYB5uyD"
      },
      "source": [
        "## เลือกใช้โมเดล"
      ],
      "id": "VkrAwwYB5uyD"
    },
    {
      "cell_type": "code",
      "metadata": {
        "colab": {
          "base_uri": "https://localhost:8080/",
          "height": 424
        },
        "id": "SW9NOYfE5xB1",
        "outputId": "d8e59377-2db8-4786-8e41-dc434a4d48fa"
      },
      "source": [
        "plt.figure(figsize=(15,5))\n",
        "\n",
        "plt.subplot(1,2,1)\n",
        "sns.barplot(['LR', 'KNN', 'DT', 'SVM', 'Ensemble'],[lr_accuracy, knn_accuracy, dt_accuracy, svm_accuracy, ensemble_accuracy])\n",
        "plt.title('Accuracy')\n",
        "\n",
        "plt.subplot(1,2,2)\n",
        "sns.barplot(['LR', 'KNN', 'DT', 'SVM', 'Ensemble'],[lr_roc, knn_roc, dt_roc, svm_roc, ensemble_roc])\n",
        "plt.title('roc_auc_score')\n",
        "\n",
        "plt.show()"
      ],
      "id": "SW9NOYfE5xB1",
      "execution_count": null,
      "outputs": [
        {
          "output_type": "stream",
          "name": "stderr",
          "text": [
            "/usr/local/lib/python3.7/dist-packages/seaborn/_decorators.py:43: FutureWarning: Pass the following variables as keyword args: x, y. From version 0.12, the only valid positional argument will be `data`, and passing other arguments without an explicit keyword will result in an error or misinterpretation.\n",
            "  FutureWarning\n",
            "/usr/local/lib/python3.7/dist-packages/seaborn/_decorators.py:43: FutureWarning: Pass the following variables as keyword args: x, y. From version 0.12, the only valid positional argument will be `data`, and passing other arguments without an explicit keyword will result in an error or misinterpretation.\n",
            "  FutureWarning\n"
          ]
        },
        {
          "output_type": "display_data",
          "data": {
            "image/png": "[encoded data removed]",
            "text/plain": [
              "<Figure size 1080x360 with 2 Axes>"
            ]
          },
          "metadata": {
            "needs_background": "light"
          }
        }
      ]
    },
    {
      "cell_type": "markdown",
      "metadata": {
        "id": "AwniIqLp9aWO"
      },
      "source": [
        "**Model ที่เราจะเลือกใช้คือ**\n",
        "\n",
        "*   SVM\n",
        "\n"
      ],
      "id": "AwniIqLp9aWO"
    }
  ]
}